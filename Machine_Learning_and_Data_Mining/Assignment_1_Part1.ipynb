{
 "cells": [
  {
   "cell_type": "code",
   "execution_count": 17,
   "metadata": {},
   "outputs": [],
   "source": [
    "import numpy as np\n",
    "import matplotlib.pyplot as plt\n",
    "import pandas as pd\n",
    "from pandas import DataFrame\n",
    "import math"
   ]
  },
  {
   "cell_type": "markdown",
   "metadata": {},
   "source": [
    "## Function Definitions"
   ]
  },
  {
   "cell_type": "code",
   "execution_count": 18,
   "metadata": {},
   "outputs": [],
   "source": [
    "def readExcelSheet1(excelfile):\n",
    "    from pandas import read_excel\n",
    "    return (read_excel(excelfile)).values"
   ]
  },
  {
   "cell_type": "code",
   "execution_count": 19,
   "metadata": {},
   "outputs": [],
   "source": [
    "def readExcelRange(excelfile,sheetname=\"Sheet1\",startrow=1,endrow=1,startcol=1,endcol=1):\n",
    "    from pandas import read_excel\n",
    "    values=(read_excel(excelfile, sheetname,header=None)).values;\n",
    "    return values[startrow-1:endrow,startcol-1:endcol]"
   ]
  },
  {
   "cell_type": "code",
   "execution_count": 20,
   "metadata": {},
   "outputs": [],
   "source": [
    "def readExcel(excelfile,**args):\n",
    "    if args:\n",
    "        data=readExcelRange(excelfile,**args)\n",
    "    else:\n",
    "        data=readExcelSheet1(excelfile)\n",
    "    if data.shape==(1,1):\n",
    "        return data[0,0]\n",
    "    elif (data.shape)[0]==1:\n",
    "        return data[0]\n",
    "    else:\n",
    "        return data"
   ]
  },
  {
   "cell_type": "code",
   "execution_count": 21,
   "metadata": {},
   "outputs": [],
   "source": [
    "def writeExcelData(x,excelfile,sheetname,startrow,startcol):\n",
    "    from pandas import DataFrame, ExcelWriter\n",
    "    from openpyxl import load_workbook\n",
    "    df=DataFrame(x)\n",
    "    book = load_workbook(excelfile)\n",
    "    writer = ExcelWriter(excelfile, engine='openpyxl') \n",
    "    writer.book = book\n",
    "    writer.sheets = dict((ws.title, ws) for ws in book.worksheets)\n",
    "    df.to_excel(writer, sheet_name=sheetname,startrow=startrow-1, startcol=startcol-1, header=False, index=False)\n",
    "    writer.save()\n",
    "    writer.close()"
   ]
  },
  {
   "cell_type": "code",
   "execution_count": 22,
   "metadata": {},
   "outputs": [],
   "source": [
    "def getSheetNames(excelfile):\n",
    "    from pandas import ExcelFile\n",
    "    return (ExcelFile(excelfile)).sheet_names\n"
   ]
  },
  {
   "cell_type": "code",
   "execution_count": 23,
   "metadata": {},
   "outputs": [],
   "source": [
    "def Build1DHistogramClassifier(X,T,B,xmin,xmax):\n",
    "    HF=np.zeros(B).astype('int32');\n",
    "    HM=np.zeros(B).astype('int32');\n",
    "    binindices=(np.round(((B-1)*(X-xmin)/(xmax-xmin)))).astype('int32');\n",
    "    for i,b in enumerate(binindices):\n",
    "        if T[i]=='Female':\n",
    "            HF[b]+=1;\n",
    "        else:\n",
    "            HM[b]+=1;\n",
    "    return [HF, HM]"
   ]
  },
  {
   "cell_type": "code",
   "execution_count": 24,
   "metadata": {},
   "outputs": [],
   "source": [
    "def Apply1DHistogramClassifier(queries,HF,HM,xmin,xmax):\n",
    "    B=np.alen(HF);\n",
    "    binindices=np.clip((np.round(((B-1)*(queries-xmin)/(xmax-xmin)))).astype('int32'),0,B-1);\n",
    "    countF=HF[binindices];\n",
    "    countM=HM[binindices];\n",
    "    resultlabel=np.full(np.alen(binindices),\"Indeterminate\",dtype=object);\n",
    "    resultprob=np.full(np.alen(binindices),np.nan,dtype=object);\n",
    "    indicesF=countF>countM;\n",
    "    indicesM=countM>countF;\n",
    "    resultlabel[indicesF]=\"Female\";\n",
    "    resultlabel[indicesM]=\"Male\";\n",
    "    probF=countF/(countF+countM);\n",
    "    probM=countM/(countF+countM);\n",
    "    resultprob[indicesF]=probF[indicesF];\n",
    "    resultprob[indicesM]=probM[indicesM];\n",
    "    return resultlabel, resultprob"
   ]
  },
  {
   "cell_type": "code",
   "execution_count": 25,
   "metadata": {},
   "outputs": [],
   "source": [
    "def BuildBayesianClassifer(x,mean,stdev):\n",
    "    exponent = math.exp(-(math.pow(x-mean,2)/(2*math.pow(stdev,2))))\n",
    "    return (1/(math.sqrt(2*math.pi)*stdev))*exponent"
   ]
  },
  {
   "cell_type": "markdown",
   "metadata": {},
   "source": [
    "## Prepare data"
   ]
  },
  {
   "cell_type": "code",
   "execution_count": 26,
   "metadata": {},
   "outputs": [],
   "source": [
    "excelfile='/Users/eve7947/Downloads/Assignment_1_Data_and_Template.xlsx'"
   ]
  },
  {
   "cell_type": "code",
   "execution_count": 27,
   "metadata": {},
   "outputs": [
    {
     "data": {
      "text/plain": [
       "['Data',\n",
       " 'Classifiers - Full Data',\n",
       " 'Classifiers - Partial Data',\n",
       " 'Queries',\n",
       " 'Observations',\n",
       " 'ID']"
      ]
     },
     "execution_count": 27,
     "metadata": {},
     "output_type": "execute_result"
    }
   ],
   "source": [
    "sheets=getSheetNames(excelfile);\n",
    "sheets"
   ]
  },
  {
   "cell_type": "code",
   "execution_count": 28,
   "metadata": {},
   "outputs": [],
   "source": [
    "data=readExcel(excelfile)\n",
    "X=np.array(data[:,0]*12+data[:,1],dtype=float)\n",
    "T=np.array([str(g) for g in data[:,2]])"
   ]
  },
  {
   "cell_type": "code",
   "execution_count": 29,
   "metadata": {},
   "outputs": [
    {
     "data": {
      "text/plain": [
       "array([55., 60., 65., 70., 75., 80.])"
      ]
     },
     "execution_count": 29,
     "metadata": {},
     "output_type": "execute_result"
    }
   ],
   "source": [
    "queries=(readExcel(excelfile,\n",
    "                  sheetname='Classifiers - Full Data',\n",
    "                  startrow=17,\n",
    "                  endrow=17,\n",
    "                  startcol=2,\n",
    "                  endcol=7)).astype(float)\n",
    "queries"
   ]
  },
  {
   "cell_type": "markdown",
   "metadata": {},
   "source": [
    "## Historgram Classifier"
   ]
  },
  {
   "cell_type": "code",
   "execution_count": 30,
   "metadata": {},
   "outputs": [
    {
     "name": "stdout",
     "output_type": "stream",
     "text": [
      "52.0\n",
      "83.0\n"
     ]
    }
   ],
   "source": [
    "B=32;\n",
    "xmin=np.amin(X);\n",
    "xmax=np.amax(X);\n",
    "[HF,HM]=Build1DHistogramClassifier(X,T,B,xmin,xmax);\n",
    "print(xmin)\n",
    "print(xmax)"
   ]
  },
  {
   "cell_type": "code",
   "execution_count": 31,
   "metadata": {},
   "outputs": [
    {
     "name": "stdout",
     "output_type": "stream",
     "text": [
      "[   3    5   12   24   44  101  163  260  404  549  693  869 1076 1013\n",
      "  951  823  695  494  299  217  110   58   20   12    5    0    0    0\n",
      "    0    0    0    0]\n",
      "[  0   0   0   0   0   0   0   0   1  10  14  53 117 241 369 500 700 787\n",
      " 849 882 873 779 610 432 274 155  83  38  24   5   3   1]\n"
     ]
    }
   ],
   "source": [
    "print(HF)\n",
    "print(HM)"
   ]
  },
  {
   "cell_type": "code",
   "execution_count": 32,
   "metadata": {},
   "outputs": [
    {
     "data": {
      "image/png": "[encoded data removed]",
      "text/plain": [
       "<Figure size 720x360 with 1 Axes>"
      ]
     },
     "metadata": {
      "needs_background": "light"
     },
     "output_type": "display_data"
    }
   ],
   "source": [
    "plt.figure(figsize=(10,5));\n",
    "opacity = 0.5\n",
    "[bincenters,binwidth]=np.linspace(xmin, xmax, num=B, retstep=True);\n",
    "rects1 = plt.bar(bincenters-(binwidth/2), HF, binwidth,\n",
    "                 alpha=opacity,\n",
    "                 color='pink',\n",
    "                 edgecolor='black',\n",
    "                 label='Female')\n",
    "rects2 = plt.bar(bincenters+(binwidth/2), HM, binwidth,\n",
    "                 alpha=opacity,\n",
    "                 color='b',\n",
    "                 edgecolor='black',\n",
    "                 label='Male')\n",
    "plt.xlabel('Height')\n",
    "plt.ylabel('Count')\n",
    "plt.xticks(bincenters, bincenters.astype('int32'), fontsize=10)\n",
    "plt.legend()\n",
    "plt.show()"
   ]
  },
  {
   "cell_type": "code",
   "execution_count": 33,
   "metadata": {},
   "outputs": [],
   "source": []
  },
  {
   "cell_type": "code",
   "execution_count": 34,
   "metadata": {},
   "outputs": [
    {
     "name": "stdout",
     "output_type": "stream",
     "text": [
      "        0         1\n",
      "0  Female         1\n",
      "1  Female  0.997531\n",
      "2  Female  0.807815\n",
      "3    Male  0.739547\n",
      "4    Male  0.972973\n",
      "5    Male         1\n"
     ]
    }
   ],
   "source": [
    "print(DataFrame([resultHlabel, resultHprob]).T)\n",
    "# The result produced upon executing the above statement is not shown in this document"
   ]
  },
  {
   "cell_type": "markdown",
   "metadata": {},
   "source": [
    "## Bayesian classifier"
   ]
  },
  {
   "cell_type": "code",
   "execution_count": 35,
   "metadata": {},
   "outputs": [],
   "source": [
    "df = pd.DataFrame(data, columns=['Height_Fight','Height_Inch','Gender'])"
   ]
  },
  {
   "cell_type": "code",
   "execution_count": 36,
   "metadata": {},
   "outputs": [
    {
     "data": {
      "text/plain": [
       "Index(['Height_Fight', 'Height_Inch', 'Gender'], dtype='object')"
      ]
     },
     "execution_count": 36,
     "metadata": {},
     "output_type": "execute_result"
    }
   ],
   "source": [
    "df.columns"
   ]
  },
  {
   "cell_type": "code",
   "execution_count": 38,
   "metadata": {},
   "outputs": [
    {
     "name": "stderr",
     "output_type": "stream",
     "text": [
      "/Users/eve7947/anaconda3/lib/python3.7/site-packages/ipykernel_launcher.py:3: SettingWithCopyWarning: \n",
      "A value is trying to be set on a copy of a slice from a DataFrame.\n",
      "Try using .loc[row_indexer,col_indexer] = value instead\n",
      "\n",
      "See the caveats in the documentation: http://pandas.pydata.org/pandas-docs/stable/indexing.html#indexing-view-versus-copy\n",
      "  This is separate from the ipykernel package so we can avoid doing imports until\n",
      "/Users/eve7947/anaconda3/lib/python3.7/site-packages/ipykernel_launcher.py:4: SettingWithCopyWarning: \n",
      "A value is trying to be set on a copy of a slice from a DataFrame.\n",
      "Try using .loc[row_indexer,col_indexer] = value instead\n",
      "\n",
      "See the caveats in the documentation: http://pandas.pydata.org/pandas-docs/stable/indexing.html#indexing-view-versus-copy\n",
      "  after removing the cwd from sys.path.\n"
     ]
    }
   ],
   "source": [
    "female=df[df.Gender=='Female']\n",
    "male=df[df.Gender=='Male']\n",
    "female['Height']=female.Height_Fight*12+female.Height_Inch\n",
    "male['Height']=male.Height_Fight*12+male.Height_Inch\n",
    "fh = female['Height']\n",
    "mh = male['Height']"
   ]
  },
  {
   "cell_type": "code",
   "execution_count": 39,
   "metadata": {},
   "outputs": [
    {
     "name": "stdout",
     "output_type": "stream",
     "text": [
      "64.72573033707866\n",
      "70.76807692307692\n"
     ]
    }
   ],
   "source": [
    "fmean = np.mean(fh)\n",
    "mmean = np.mean(mh)\n",
    "print(np.mean(fh))\n",
    "print(np.mean(mh))"
   ]
  },
  {
   "cell_type": "code",
   "execution_count": 40,
   "metadata": {},
   "outputs": [
    {
     "name": "stdout",
     "output_type": "stream",
     "text": [
      "3.478239057126158\n",
      "3.3094552025480843\n"
     ]
    }
   ],
   "source": [
    "fstd = np.std(fh)\n",
    "mstd = np.std(mh)\n",
    "print(np.std(fh))\n",
    "print(np.std(mh))"
   ]
  },
  {
   "cell_type": "code",
   "execution_count": 41,
   "metadata": {},
   "outputs": [
    {
     "name": "stdout",
     "output_type": "stream",
     "text": [
      "8900\n",
      "7800\n"
     ]
    }
   ],
   "source": [
    "NF = fh.count()\n",
    "NM = mh.count()\n",
    "print(fh.count())\n",
    "print(mh.count())"
   ]
  },
  {
   "cell_type": "code",
   "execution_count": 57,
   "metadata": {},
   "outputs": [
    {
     "name": "stdout",
     "output_type": "stream",
     "text": [
      "0.06628659624088717\n",
      "19.208157409840005\n"
     ]
    }
   ],
   "source": [
    "FP = NF*BuildBayesianClassifer(80,fmean,fstd)\n",
    "MP = NM*BuildBayesianClassifer(80,mmean,mstd)\n",
    "print(FP)\n",
    "print(MP)"
   ]
  },
  {
   "cell_type": "code",
   "execution_count": 58,
   "metadata": {},
   "outputs": [
    {
     "name": "stdout",
     "output_type": "stream",
     "text": [
      "0.003439092521681789\n"
     ]
    }
   ],
   "source": [
    "F = FP/(FP + MP)\n",
    "print (F)"
   ]
  },
  {
   "cell_type": "code",
   "execution_count": 59,
   "metadata": {},
   "outputs": [
    {
     "name": "stdout",
     "output_type": "stream",
     "text": [
      "0.9965609074783183\n"
     ]
    }
   ],
   "source": [
    "M = MP/(FP + MP)\n",
    "print(M)"
   ]
  },
  {
   "cell_type": "code",
   "execution_count": null,
   "metadata": {},
   "outputs": [],
   "source": []
  }
 ],
 "metadata": {
  "kernelspec": {
   "display_name": "Python 3",
   "language": "python",
   "name": "python3"
  },
  "language_info": {
   "codemirror_mode": {
    "name": "ipython",
    "version": 3
   },
   "file_extension": ".py",
   "mimetype": "text/x-python",
   "name": "python",
   "nbconvert_exporter": "python",
   "pygments_lexer": "ipython3",
   "version": "3.7.2"
  }
 },
 "nbformat": 4,
 "nbformat_minor": 2
}
