{
 "cells": [
  {
   "cell_type": "markdown",
   "metadata": {},
   "source": [
    "## Assignment 3"
   ]
  },
  {
   "cell_type": "markdown",
   "metadata": {},
   "source": [
    "### Import Modules"
   ]
  },
  {
   "cell_type": "code",
   "execution_count": 67,
   "metadata": {},
   "outputs": [],
   "source": [
    "import struct\n",
    "import numpy as np\n",
    "from array import array\n",
    "import matplotlib.pyplot as plt\n",
    "import numpy.linalg as LA\n",
    "from pandas import DataFrame, ExcelWriter"
   ]
  },
  {
   "cell_type": "markdown",
   "metadata": {},
   "source": [
    "### Function Definitions"
   ]
  },
  {
   "cell_type": "code",
   "execution_count": 68,
   "metadata": {},
   "outputs": [],
   "source": [
    "def load_mnist(dataset=\"training\", selecteddigits=range(10), path=r'/Users/eve7947/Downloads'):\n",
    "\n",
    "    #Check training/testing specification. Must be \"training\" (default) or \"testing\"\n",
    "    if dataset == \"training\":\n",
    "        fname_digits = path + '/' + 'train-images-idx3-ubyte'\n",
    "        fname_labels = path + '/' + 'train-labels-idx1-ubyte'\n",
    "    elif dataset == \"testing\":\n",
    "        fname_digits = path + '/' + 't10k-images-idx3-ubyte'\n",
    "        fname_labels = path + '/' + 't10k-labels-idx1-ubyte'\n",
    "    else:\n",
    "        raise ValueError(\"dataset must be 'testing' or 'training'\")\n",
    "        \n",
    "        \n",
    "    #Import digits data\n",
    "    digitsfileobject = open(fname_digits, 'rb')\n",
    "    magic_nr, size, rows, cols = struct.unpack(\">IIII\", digitsfileobject.read(16))\n",
    "    digitsdata = array(\"B\", digitsfileobject.read())\n",
    "    digitsfileobject.close()\n",
    "\n",
    "    #Import label data\n",
    "    labelsfileobject = open(fname_labels, 'rb')\n",
    "    magic_nr, size = struct.unpack(\">II\", labelsfileobject.read(8))\n",
    "    labelsdata=array(\"B\",labelsfileobject.read())\n",
    "    labelsfileobject.close()\n",
    "    \n",
    "    #Find indices of selected digits\n",
    "    indices=[k for k in range(size) if labelsdata[k] in selecteddigits]\n",
    "    N=len(indices)\n",
    "    \n",
    "    #Create empty arrays for X and T\n",
    "    X = np.zeros((N, rows*cols), dtype=np.uint8)\n",
    "    T = np.zeros((N, 1), dtype=np.uint8)\n",
    "    \n",
    "    #Fill X from digitsdata\n",
    "    #Fill T from labelsdata\n",
    "    for i in range(N):\n",
    "        X[i] = digitsdata[indices[i]*rows*cols:(indices[i]+1)*rows*cols]\n",
    "        T[i] = labelsdata[indices[i]]\n",
    "    \n",
    "    return X,T"
   ]
  },
  {
   "cell_type": "code",
   "execution_count": 69,
   "metadata": {},
   "outputs": [],
   "source": [
    "def vectortoimg(v,show=True):\n",
    "    plt.imshow(v.reshape(28, 28),interpolation='None', cmap='gray')\n",
    "    plt.axis('off')\n",
    "    if show:\n",
    "        plt.show()"
   ]
  },
  {
   "cell_type": "code",
   "execution_count": 70,
   "metadata": {},
   "outputs": [],
   "source": [
    "def readExcelSheet1(excelfile):\n",
    "    from pandas import read_excel\n",
    "    return (read_excel(excelfile)).values"
   ]
  },
  {
   "cell_type": "code",
   "execution_count": 71,
   "metadata": {},
   "outputs": [],
   "source": [
    "def readExcelRange(excelfile,sheetname=\"Sheet1\",startrow=1,endrow=1,startcol=1,endcol=1):\n",
    "    from pandas import read_excel\n",
    "    values=(read_excel(excelfile, sheetname,header=None)).values;\n",
    "    return values[startrow-1:endrow,startcol-1:endcol]"
   ]
  },
  {
   "cell_type": "code",
   "execution_count": 72,
   "metadata": {},
   "outputs": [],
   "source": [
    "def readExcel(excelfile,**args):\n",
    "    if args:\n",
    "        data=readExcelRange(excelfile,**args)\n",
    "    else:\n",
    "        data=readExcelSheet1(excelfile)\n",
    "    if data.shape==(1,1):\n",
    "        return data[0,0]\n",
    "    elif (data.shape)[0]==1:\n",
    "        return data[0]\n",
    "    else:\n",
    "        return data"
   ]
  },
  {
   "cell_type": "code",
   "execution_count": 73,
   "metadata": {},
   "outputs": [],
   "source": [
    "def writeExcelData(x,excelfile,sheetname,startrow,startcol):\n",
    "    from pandas import DataFrame, ExcelWriter\n",
    "    from openpyxl import load_workbook\n",
    "    df=DataFrame(x)\n",
    "    book = load_workbook(excelfile)\n",
    "    writer = ExcelWriter(excelfile, engine='openpyxl') \n",
    "    writer.book = book\n",
    "    writer.sheets = dict((ws.title, ws) for ws in book.worksheets)\n",
    "    df.to_excel(writer, sheet_name=sheetname,startrow=startrow-1, startcol=startcol-1, header=False, index=False)\n",
    "    writer.save()\n",
    "    writer.close()"
   ]
  },
  {
   "cell_type": "code",
   "execution_count": 74,
   "metadata": {},
   "outputs": [],
   "source": [
    "def getSheetNames(excelfile):\n",
    "    from pandas import ExcelFile\n",
    "    return (ExcelFile(excelfile)).sheet_names"
   ]
  },
  {
   "cell_type": "code",
   "execution_count": 77,
   "metadata": {},
   "outputs": [],
   "source": [
    "def count(x, count8, count7):\n",
    "    for i in T:\n",
    "        if i == 7:\n",
    "            count7 +=1\n",
    "        if i == 8:\n",
    "            count8 +=1\n",
    "    return print(count8, count7)"
   ]
  },
  {
   "cell_type": "code",
   "execution_count": 78,
   "metadata": {},
   "outputs": [],
   "source": [
    "def seperate(T,Y,Y1,Y2):\n",
    "    for i in range(12116):\n",
    "        if T[i] == 8:\n",
    "            Y1.append(Y[i,:])\n",
    "        if T[i] == 7:\n",
    "            Y2.append(Y[i,:])\n",
    "    return Y1, Y2"
   ]
  },
  {
   "cell_type": "markdown",
   "metadata": {},
   "source": [
    "### Set file & check sheets"
   ]
  },
  {
   "cell_type": "code",
   "execution_count": 79,
   "metadata": {},
   "outputs": [],
   "source": [
    "excelfile=r\"/Users/eve7947/Downloads/Hsing-Yi-Wang-Assignment_3_ Submission_Template_0221.xlsx\""
   ]
  },
  {
   "cell_type": "code",
   "execution_count": 80,
   "metadata": {},
   "outputs": [
    {
     "data": {
      "text/plain": [
       "['Results', 'Scatter Plot', 'Observations', 'ID']"
      ]
     },
     "execution_count": 80,
     "metadata": {},
     "output_type": "execute_result"
    }
   ],
   "source": [
    "sheets=getSheetNames(excelfile);sheets"
   ]
  },
  {
   "cell_type": "markdown",
   "metadata": {},
   "source": [
    "### Check Data Set"
   ]
  },
  {
   "cell_type": "code",
   "execution_count": 81,
   "metadata": {},
   "outputs": [],
   "source": [
    "X, T = load_mnist(dataset=\"training\",selecteddigits=[7,8])"
   ]
  },
  {
   "cell_type": "code",
   "execution_count": 82,
   "metadata": {},
   "outputs": [
    {
     "name": "stdout",
     "output_type": "stream",
     "text": [
      "Checking shape of matrix: (12116, 784)\n",
      "Checking min/max values: (0, 255)\n",
      "Checking unique labels in T: [7, 8]\n"
     ]
    }
   ],
   "source": [
    "print(\"Checking shape of matrix:\", X.shape)\n",
    "print(\"Checking min/max values:\",(np.amin(X),np.amax(X)))\n",
    "print(\"Checking unique labels in T:\",list(np.unique(T)))"
   ]
  },
  {
   "cell_type": "code",
   "execution_count": 83,
   "metadata": {},
   "outputs": [
    {
     "name": "stdout",
     "output_type": "stream",
     "text": [
      "Checking one training vector by plotting image:\n"
     ]
    },
    {
     "data": {
      "image/png": "[encoded data removed]",
      "text/plain": [
       "<Figure size 432x288 with 1 Axes>"
      ]
     },
     "metadata": {
      "needs_background": "light"
     },
     "output_type": "display_data"
    }
   ],
   "source": [
    "print(\"Checking one training vector by plotting image:\")\n",
    "vectortoimg(X[-20])"
   ]
  },
  {
   "cell_type": "code",
   "execution_count": 84,
   "metadata": {},
   "outputs": [
    {
     "name": "stdout",
     "output_type": "stream",
     "text": [
      "Checking multiple training vectors by plotting images.\n",
      "Be patient:\n"
     ]
    },
    {
     "data": {
      "image/png": "[encoded data removed]",
      "text/plain": [
       "<Figure size 432x288 with 100 Axes>"
      ]
     },
     "metadata": {
      "needs_background": "light"
     },
     "output_type": "display_data"
    }
   ],
   "source": [
    "print(\"Checking multiple training vectors by plotting images.\\nBe patient:\")\n",
    "plt.close('all')\n",
    "fig = plt.figure()\n",
    "nrows=10\n",
    "ncols=10\n",
    "for row in range(nrows):\n",
    "    for col in range(ncols):\n",
    "        plt.subplot(nrows, ncols, row*ncols+col + 1)\n",
    "        vectortoimg(X[np.random.randint(len(T))],show=False)\n",
    "plt.show()"
   ]
  },
  {
   "cell_type": "markdown",
   "metadata": {},
   "source": [
    "### XZCVPR"
   ]
  },
  {
   "cell_type": "code",
   "execution_count": 85,
   "metadata": {},
   "outputs": [
    {
     "data": {
      "text/plain": [
       "array([ 0.00000000e+00,  0.00000000e+00,  0.00000000e+00,  0.00000000e+00,\n",
       "        0.00000000e+00,  0.00000000e+00,  0.00000000e+00,  0.00000000e+00,\n",
       "        0.00000000e+00,  0.00000000e+00,  0.00000000e+00,  0.00000000e+00,\n",
       "        0.00000000e+00,  0.00000000e+00,  0.00000000e+00,  0.00000000e+00,\n",
       "        0.00000000e+00,  0.00000000e+00,  0.00000000e+00,  0.00000000e+00,\n",
       "        0.00000000e+00,  0.00000000e+00,  0.00000000e+00,  0.00000000e+00,\n",
       "        0.00000000e+00,  0.00000000e+00,  0.00000000e+00,  0.00000000e+00,\n",
       "        0.00000000e+00,  0.00000000e+00,  0.00000000e+00,  0.00000000e+00,\n",
       "        0.00000000e+00,  0.00000000e+00,  0.00000000e+00,  0.00000000e+00,\n",
       "        0.00000000e+00,  0.00000000e+00,  0.00000000e+00,  0.00000000e+00,\n",
       "        0.00000000e+00,  0.00000000e+00,  0.00000000e+00,  0.00000000e+00,\n",
       "        0.00000000e+00,  0.00000000e+00,  0.00000000e+00,  0.00000000e+00,\n",
       "        0.00000000e+00,  0.00000000e+00,  0.00000000e+00,  0.00000000e+00,\n",
       "        0.00000000e+00,  0.00000000e+00,  0.00000000e+00,  0.00000000e+00,\n",
       "        0.00000000e+00,  0.00000000e+00,  0.00000000e+00,  0.00000000e+00,\n",
       "        0.00000000e+00,  0.00000000e+00,  0.00000000e+00,  0.00000000e+00,\n",
       "        0.00000000e+00,  0.00000000e+00,  0.00000000e+00,  0.00000000e+00,\n",
       "        0.00000000e+00,  0.00000000e+00,  0.00000000e+00,  0.00000000e+00,\n",
       "        0.00000000e+00, -7.39174634e-05, -2.59903339e-04, -1.31143887e-05,\n",
       "        0.00000000e+00,  0.00000000e+00,  0.00000000e+00,  0.00000000e+00,\n",
       "        0.00000000e+00,  0.00000000e+00,  0.00000000e+00,  0.00000000e+00,\n",
       "        0.00000000e+00,  0.00000000e+00,  0.00000000e+00,  0.00000000e+00,\n",
       "        0.00000000e+00,  0.00000000e+00,  0.00000000e+00,  0.00000000e+00,\n",
       "       -9.29929379e-05, -2.32482345e-04, -5.44843238e-04, -9.29929379e-04,\n",
       "       -1.62260754e-03, -2.90066433e-03, -3.88066683e-03, -5.49492885e-03,\n",
       "       -6.03738766e-03, -6.14826385e-03, -4.93458679e-03, -2.99484949e-03,\n",
       "       -2.19725621e-03, -2.35462888e-03, -1.32455326e-03, -8.90586212e-04,\n",
       "       -2.90900985e-04, -5.00731204e-05,  0.00000000e+00,  0.00000000e+00,\n",
       "        0.00000000e+00,  0.00000000e+00, -3.81509489e-05,  1.11700711e+00,\n",
       "        2.12341946e+00, -4.66277050e+05,  2.87316288e-01, -1.75852030e-03,\n",
       "       -5.40432035e-03, -1.26935360e-02, -2.69023800e-02, -5.24790146e-02,\n",
       "       -9.19533245e-02, -1.45504142e-01, -1.61644780e-01, -6.23447410e-02,\n",
       "        2.74850247e-01,  3.04810664e-01,  6.96303521e-01,  6.04843971e-01,\n",
       "        2.00702209e-01, -4.48488248e-02, -2.09591775e-02, -9.19080202e-03,\n",
       "       -4.17514447e-03, -1.86581984e-03, -6.35451742e-04, -7.03408120e-05,\n",
       "        0.00000000e+00,  0.00000000e+00,  0.00000000e+00,  1.63680250e+00,\n",
       "        2.47688040e+00,  2.79536384e+00,  2.61279688e+00,  1.50469657e+00,\n",
       "        3.38091086e-01, -9.83018808e-02, -1.75389450e-01, -3.09195557e-01,\n",
       "       -4.89401564e-01, -2.63652263e-01, -1.23888033e-01, -9.84406072e-02,\n",
       "       -1.16537741e-01, -4.65636623e-02, -1.56747724e-01,  3.06557944e-01,\n",
       "        3.23252942e-01, -2.21592633e-01, -1.21484543e-01, -5.98659921e-02,\n",
       "       -2.51712807e-02, -9.45308980e-03, -2.05061350e-03, -5.60342061e-05,\n",
       "        0.00000000e+00,  0.00000000e+00, -9.76425847e-04,  1.30549842e-01,\n",
       "        2.67063625e-01,  1.10006618e+00,  2.35887597e+00,  2.67448137e+00,\n",
       "        2.34900026e+00,  1.73489927e+00,  5.16052897e-01, -7.05438316e-01,\n",
       "       -6.63265030e-01, -4.62118574e-01, -5.90282388e-01, -7.85777190e-01,\n",
       "       -1.21294543e+00, -1.40399068e+00, -8.39846111e-01, -1.21118240e-01,\n",
       "       -1.75566375e-02, -4.64849044e-01, -2.73518459e-01, -1.42921800e-01,\n",
       "       -6.13705701e-02, -2.20190586e-02, -4.61507260e-03, -3.86278357e-04,\n",
       "       -5.60342061e-05, -8.07131012e-04, -6.21502801e-03, -1.99255253e-02,\n",
       "       -5.79489069e-02, -1.29285220e-01, -1.71371964e-01,  6.60189819e-01,\n",
       "        1.79516492e+00,  1.59889682e+00,  1.45050478e+00,  1.37167954e+00,\n",
       "        1.02096709e+00,  4.12240623e-02, -1.26415385e+00, -1.89796625e+00,\n",
       "       -1.91500238e+00, -1.87141730e+00, -1.25003603e+00, -6.71589465e-01,\n",
       "       -4.78709808e-01, -7.82100413e-01, -4.66241554e-01, -2.52056166e-01,\n",
       "       -1.05703165e-01, -3.22017853e-02, -6.71099035e-03, -5.69879799e-04,\n",
       "       -2.27713476e-04, -3.31913255e-03, -2.17400798e-02, -6.53954952e-02,\n",
       "       -1.43926839e-01, -2.84215031e-01, -4.91939795e-01, -7.88696950e-01,\n",
       "       -1.14350316e+00, -1.56008291e+00, -1.23236265e+00,  1.36170669e-01,\n",
       "        1.03758246e+00,  1.07515566e+00,  6.29802724e-01, -2.15636752e-01,\n",
       "       -1.18436005e+00, -1.99541047e+00, -1.26944558e+00, -1.07645496e+00,\n",
       "       -1.08823376e+00, -1.02975372e+00, -6.22793972e-01, -3.25136693e-01,\n",
       "       -1.36636431e-01, -4.19743893e-02, -8.09157781e-03, -8.65549652e-04,\n",
       "       -3.48127408e-04, -5.33636397e-03, -3.46720592e-02, -9.81659681e-02,\n",
       "       -2.08114618e-01, -3.86163904e-01, -6.45417485e-01, -9.94273338e-01,\n",
       "       -1.41062657e+00, -1.84652262e+00, -2.19275798e+00, -2.13881498e+00,\n",
       "       -1.07377220e+00, -2.53874583e-01,  1.40877018e-01,  1.00494079e+00,\n",
       "        8.48939846e-01,  3.98625149e-01, -1.31817680e+00, -1.54040706e+00,\n",
       "       -1.66006105e+00, -1.11676650e+00, -6.49683238e-01, -3.24069658e-01,\n",
       "       -1.30093543e-01, -4.01097616e-02, -8.05461908e-03, -1.06226548e-03,\n",
       "       -4.76886861e-04, -6.76702455e-03, -3.58404320e-02, -9.73516838e-02,\n",
       "       -2.09421288e-01, -3.77618092e-01, -6.29549075e-01, -9.58999209e-01,\n",
       "       -1.34406627e+00, -1.71659479e+00, -1.97477061e+00, -1.98610740e+00,\n",
       "       -1.11275361e+00, -5.94217427e-01, -6.79059789e-01, -3.32525019e-01,\n",
       "        1.39359675e+00,  1.59232165e+00,  9.60682586e-01, -1.29432821e+00,\n",
       "       -1.61004157e+00, -1.01827386e+00, -5.49178140e-01, -2.45283180e-01,\n",
       "       -9.51675419e-02, -3.11907851e-02, -5.84067183e-03, -8.95355081e-04,\n",
       "       -4.24429306e-04, -5.24456325e-03, -2.84129192e-02, -7.18012780e-02,\n",
       "       -1.59186026e-01, -2.93072013e-01, -5.01644442e-01, -7.80222671e-01,\n",
       "       -1.11534180e+00, -1.42842041e+00, -1.59477047e+00, -1.55795718e+00,\n",
       "       -8.26500882e-01, -2.04203383e-01, -8.53517933e-02, -3.20794549e-01,\n",
       "       -4.90632028e-01,  1.11685875e+00,  6.26068639e-01,  2.88416888e-01,\n",
       "       -1.38279664e+00, -7.75160517e-01, -3.74114166e-01, -1.49474225e-01,\n",
       "       -5.65718961e-02, -1.73753728e-02, -4.23237089e-03, -1.85985876e-04,\n",
       "       -2.71825511e-04, -2.93762306e-03, -1.59065612e-02, -4.30020805e-02,\n",
       "       -1.01570940e-01, -2.02174992e-01, -3.56173682e-01, -5.85515727e-01,\n",
       "       -8.58204402e-01, -1.09704126e+00, -1.23798756e+00, -1.26410308e+00,\n",
       "       -1.18769746e+00, -4.29511912e-01, -1.59778735e-01, -4.68957132e-01,\n",
       "       -6.29751329e-01,  4.12160751e-01,  5.18281540e-01,  8.03578082e-01,\n",
       "       -7.05850455e-01, -5.01724321e-01, -2.13195848e-01, -8.07703276e-02,\n",
       "       -2.84105347e-02, -8.65191987e-03, -2.46908172e-03, -3.13553111e-04,\n",
       "        0.00000000e+00, -9.28737161e-04, -7.77683248e-03, -2.43021544e-02,\n",
       "       -6.48327687e-02, -1.34823069e-01, -2.45600310e-01, -4.10596010e-01,\n",
       "       -6.05936022e-01, -7.85567380e-01, -9.37592950e-01, -1.09525055e+00,\n",
       "       -1.23957559e+00, -8.12637849e-01, -5.29865121e-01, -9.21977719e-01,\n",
       "       -4.27914198e-01,  4.07854810e-01,  8.07037726e-01,  9.96065724e-01,\n",
       "       -6.87339417e-01, -3.02415418e-01, -1.22750678e-01, -4.83265223e-02,\n",
       "       -1.75089011e-02, -5.40551257e-03, -1.10518530e-03, -6.08030747e-05,\n",
       "        0.00000000e+00, -2.55134471e-04, -3.17964314e-03, -1.29176728e-02,\n",
       "       -4.01932168e-02, -9.20308186e-02, -1.66792372e-01, -2.74832282e-01,\n",
       "       -3.98524812e-01, -5.33034328e-01, -7.29839574e-01, -1.02358280e+00,\n",
       "       -7.41860952e-01, -6.75791309e-01, -8.79589379e-01, -1.28617192e+00,\n",
       "        2.14986061e-01,  6.77250065e-01,  1.17493303e+00,  1.34549431e+00,\n",
       "       -4.75183182e-01, -2.11854603e-01, -9.61976176e-02, -4.21651440e-02,\n",
       "       -1.54117911e-02, -4.38735912e-03, -1.51411578e-04,  0.00000000e+00,\n",
       "       -8.34552006e-06,  0.00000000e+00, -1.08253317e-03, -7.20695268e-03,\n",
       "       -2.39695258e-02, -6.15255583e-02, -1.18879549e-01, -1.90944307e-01,\n",
       "       -2.84842138e-01, -4.38904015e-01, -6.97768933e-01, -5.15053629e-01,\n",
       "       -5.81184109e-01, -9.60225510e-01, -1.64390040e+00, -9.73500882e-01,\n",
       "        9.65197247e-01,  9.43129655e-01,  1.42948953e+00,  6.88152563e-01,\n",
       "       -3.81818273e-01, -1.85436264e-01, -9.49350596e-02, -4.38700145e-02,\n",
       "       -1.63011851e-02, -3.46100639e-03,  0.00000000e+00,  0.00000000e+00,\n",
       "       -4.76886861e-05,  0.00000000e+00, -2.51557819e-04, -4.43385559e-03,\n",
       "       -1.55190907e-02, -4.26348776e-02, -9.07825673e-02, -1.64798985e-01,\n",
       "       -2.90600546e-01, -5.07431464e-01, -3.88519780e-01, -3.52452479e-01,\n",
       "       -7.46315204e-01, -1.40819914e+00, -1.99452684e+00,  8.46786150e-01,\n",
       "        1.36041587e+00,  1.22130935e+00,  1.53815351e+00, -4.57197749e-01,\n",
       "       -3.30304954e-01, -1.74099471e-01, -9.44152529e-02, -4.77184915e-02,\n",
       "       -1.67375366e-02, -2.02319251e-03,  0.00000000e+00,  0.00000000e+00,\n",
       "        0.00000000e+00, -7.63018977e-05, -1.20413932e-04, -2.29859467e-03,\n",
       "       -1.06262315e-02, -3.41546370e-02, -8.50432339e-02, -1.89682941e-01,\n",
       "       -3.79021331e-01, -5.37462420e-01, -1.54735187e-01, -4.38017434e-01,\n",
       "       -1.22847373e+00, -1.58102420e+00, -1.84225382e+00,  1.16243696e+00,\n",
       "        1.54293525e+00,  1.71803048e+00,  1.03416558e+00, -5.56226528e-01,\n",
       "       -3.01202933e-01, -1.63691415e-01, -9.02782594e-02, -4.55331575e-02,\n",
       "       -1.77330379e-02, -1.74898256e-03, -2.99246505e-04,  0.00000000e+00,\n",
       "       -7.15330291e-05, -5.00731204e-05, -3.68395100e-04, -1.37820303e-03,\n",
       "       -8.94520529e-03, -3.92215599e-02, -1.08335580e-01, -2.55840263e-01,\n",
       "       -4.00750947e-01, -3.51130229e-02, -2.37926185e-01, -7.91963210e-01,\n",
       "       -1.28203641e+00, -1.47957844e+00,  6.01018331e-02,  1.42496740e+00,\n",
       "        1.80100449e+00,  1.72854763e+00, -2.70214008e-01, -5.03476880e-01,\n",
       "       -2.85181919e-01, -1.56166140e-01, -8.85137780e-02, -4.18957029e-02,\n",
       "       -1.32622236e-02, -9.71656979e-04, -1.97908047e-04,  0.00000000e+00,\n",
       "        0.00000000e+00, -2.36058996e-04, -3.68395100e-04, -9.78810282e-04,\n",
       "       -1.01612668e-02, -5.34470949e-02, -1.49971380e-01, -3.45418691e-01,\n",
       "       -3.12112047e-01, -5.75666344e-02, -3.00388492e-01, -1.03203900e+00,\n",
       "       -1.22181752e+00, -4.36490640e-01,  9.29260790e-01,  1.62198010e+00,\n",
       "        2.03754203e+00,  1.14113842e+00, -7.94141806e-01, -4.79442974e-01,\n",
       "       -2.74887124e-01, -1.52233016e-01, -8.40465403e-02, -3.69003131e-02,\n",
       "       -8.55892693e-03, -5.05500072e-04,  0.00000000e+00,  0.00000000e+00,\n",
       "        0.00000000e+00, -5.24575547e-05, -9.53773722e-06, -6.55719434e-04,\n",
       "       -1.07347232e-02, -6.66675909e-02, -1.95553418e-01, -4.20370999e-01,\n",
       "       -1.06863444e-01, -8.94541444e-02, -6.93468006e-01, -1.18404093e+00,\n",
       "       -4.11687938e-01,  1.15931123e+00,  1.27636666e+00,  1.92125675e+00,\n",
       "        2.11860022e+00, -2.40145044e-01, -7.46059688e-01, -4.59079905e-01,\n",
       "       -2.62666898e-01, -1.41463718e-01, -7.26751731e-02, -2.79324557e-02,\n",
       "       -5.51996541e-03, -7.52289023e-04,  0.00000000e+00,  0.00000000e+00,\n",
       "        0.00000000e+00,  0.00000000e+00,  0.00000000e+00, -3.21898631e-04,\n",
       "       -1.04831654e-02, -7.51776369e-02, -2.23311810e-01, -4.52217503e-01,\n",
       "        1.26570835e-01, -1.60966436e-01, -1.26266169e+00, -1.47316193e+00,\n",
       "        6.54086328e-01,  1.23077754e+00,  1.70392854e+00,  1.92715631e+00,\n",
       "        1.39393886e-01, -1.00721002e+00, -6.98454457e-01, -4.18043791e-01,\n",
       "       -2.32644486e-01, -1.13739901e-01, -5.36807695e-02, -1.72728421e-02,\n",
       "       -2.78382705e-03, -6.61680519e-04,  0.00000000e+00,  0.00000000e+00,\n",
       "        0.00000000e+00,  0.00000000e+00,  0.00000000e+00, -5.85378622e-04,\n",
       "       -8.80094702e-03, -6.69465697e-02, -2.08150385e-01, -4.32770057e-01,\n",
       "       -2.92477151e-01, -2.44761888e-01, -8.46155972e-01, -1.34026779e+00,\n",
       "        1.57524625e+00,  1.49584386e+00,  1.61738588e+00,  1.59514180e+00,\n",
       "       -1.09511694e+00, -9.40866779e-01, -5.87660525e-01, -3.25902096e-01,\n",
       "       -1.67662690e-01, -7.61838682e-02,  2.45478309e-01, -8.42062974e-03,\n",
       "       -1.64764410e-03, -5.42458804e-04,  0.00000000e+00,  0.00000000e+00,\n",
       "        0.00000000e+00,  0.00000000e+00,  0.00000000e+00, -3.80317271e-04,\n",
       "       -8.60423119e-03, -4.64440114e-02, -1.54802244e-01, -3.58370938e-01,\n",
       "       -5.58177261e-01, -4.05401166e-01, -6.36864226e-01, -1.03845614e+00,\n",
       "       -4.64587744e-02,  1.39733354e+00,  1.35678735e+00, -4.20982095e-04,\n",
       "       -1.09355403e+00, -7.07596378e-01, -3.96884321e-01, -2.02601806e-01,\n",
       "       -9.50173226e-02, -4.05830719e-02, -1.55465117e-02, -4.25740745e-03,\n",
       "       -1.07061100e-03, -2.62287773e-04,  0.00000000e+00,  0.00000000e+00,\n",
       "        0.00000000e+00,  0.00000000e+00, -1.25182801e-04, -8.56011915e-04,\n",
       "       -7.66118742e-03, -2.87217034e-02, -9.54036009e-02, -2.35954081e-01,\n",
       "       -4.61848234e-01, -7.62637468e-01, -1.09100984e+00, -1.34600124e+00,\n",
       "       -1.47201621e+00, -1.42551378e+00, -1.22692259e+00, -9.43632722e-01,\n",
       "       -6.46505979e-01, -3.87555222e-01, -2.02539811e-01, -1.00468139e-01,\n",
       "       -4.38080192e-02, -1.71607737e-02, -6.19595254e-03, -1.33647543e-03,\n",
       "       -3.64818448e-04, -5.24575547e-05,  0.00000000e+00,  0.00000000e+00,\n",
       "        0.00000000e+00,  0.00000000e+00,  0.00000000e+00, -7.36790200e-04,\n",
       "       -4.97869883e-03, -2.01019734e-02, -6.30575574e-02, -1.44658860e-01,\n",
       "       -2.69329008e-01, -4.12538132e-01, -5.58279526e-01, -6.55440455e-01,\n",
       "       -6.83943982e-01, -6.48802190e-01, -5.57949282e-01, -4.34583420e-01,\n",
       "       -2.97735966e-01, -1.83848230e-01, -9.95727843e-02, -4.97035331e-02,\n",
       "       -2.04274487e-02, -8.15595754e-03, -3.11407120e-03, -5.17422244e-04,\n",
       "       -3.00438722e-04,  0.00000000e+00,  0.00000000e+00,  0.00000000e+00,\n",
       "        0.00000000e+00,  0.00000000e+00,  0.00000000e+00,  0.00000000e+00,\n",
       "       -1.30070891e-03, -8.53508259e-03, -3.17105918e-02, -7.46077572e-02,\n",
       "       -1.39831573e-01, -2.03304022e-01, -2.72174830e-01, -3.23944476e-01,\n",
       "       -3.37297308e-01, -3.22979972e-01, -2.81555195e-01, -2.17982600e-01,\n",
       "       -1.55701176e-01, -1.00965294e-01, -5.74231391e-02, -2.76284403e-02,\n",
       "       -9.61880798e-03, -4.96320000e-03, -2.20083286e-03, -3.95816094e-04,\n",
       "        0.00000000e+00, -7.03408120e-05,  0.00000000e+00,  0.00000000e+00,\n",
       "        0.00000000e+00,  0.00000000e+00,  0.00000000e+00,  0.00000000e+00,\n",
       "       -1.81217007e-04, -1.11472304e-03, -2.92927754e-03, -6.10295960e-03,\n",
       "       -8.89513217e-03, -1.36139277e-02, -2.28428806e-02, -2.93201964e-02,\n",
       "       -3.56663683e-02, -4.09824646e-02, -4.64392425e-02, -4.08513207e-02,\n",
       "       -3.30923715e-02, -2.35498654e-02, -1.31883061e-02, -5.02519530e-03,\n",
       "       -1.92781513e-03, -7.85671103e-04, -8.38128658e-04, -1.43066058e-04,\n",
       "        0.00000000e+00,  0.00000000e+00,  0.00000000e+00,  0.00000000e+00])"
      ]
     },
     "execution_count": 85,
     "metadata": {},
     "output_type": "execute_result"
    }
   ],
   "source": [
    "X = np.array(X,np.float64)\n",
    "μ=np.mean(X,axis=0)\n",
    "Z=X-μ\n",
    "C=np.cov(Z,rowvar=False)\n",
    "[λ,V]=LA.eigh(C)\n",
    "row=V[-1,:];col=V[:,-1]\n",
    "np.dot(C,row)-(λ[-1]*row) #If the matrix product C.row is the same as λ[-1]*row, this should evaluate to [0,0,0]"
   ]
  },
  {
   "cell_type": "code",
   "execution_count": 86,
   "metadata": {},
   "outputs": [
    {
     "data": {
      "text/plain": [
       "array([ 0.00000000e+00,  0.00000000e+00,  0.00000000e+00,  0.00000000e+00,\n",
       "        0.00000000e+00,  0.00000000e+00,  0.00000000e+00,  0.00000000e+00,\n",
       "        0.00000000e+00,  0.00000000e+00,  0.00000000e+00,  0.00000000e+00,\n",
       "        0.00000000e+00,  0.00000000e+00,  0.00000000e+00,  0.00000000e+00,\n",
       "        0.00000000e+00,  0.00000000e+00,  0.00000000e+00,  0.00000000e+00,\n",
       "        0.00000000e+00,  0.00000000e+00,  0.00000000e+00,  0.00000000e+00,\n",
       "        0.00000000e+00,  0.00000000e+00,  0.00000000e+00,  0.00000000e+00,\n",
       "        0.00000000e+00,  0.00000000e+00,  0.00000000e+00,  0.00000000e+00,\n",
       "        0.00000000e+00,  0.00000000e+00,  0.00000000e+00,  0.00000000e+00,\n",
       "        0.00000000e+00,  0.00000000e+00,  0.00000000e+00,  0.00000000e+00,\n",
       "        0.00000000e+00,  0.00000000e+00,  0.00000000e+00,  0.00000000e+00,\n",
       "        0.00000000e+00,  0.00000000e+00,  0.00000000e+00,  0.00000000e+00,\n",
       "        0.00000000e+00,  0.00000000e+00,  0.00000000e+00,  0.00000000e+00,\n",
       "        0.00000000e+00,  0.00000000e+00,  0.00000000e+00,  0.00000000e+00,\n",
       "        0.00000000e+00,  0.00000000e+00,  0.00000000e+00,  0.00000000e+00,\n",
       "        0.00000000e+00,  0.00000000e+00,  0.00000000e+00,  0.00000000e+00,\n",
       "        0.00000000e+00,  0.00000000e+00,  0.00000000e+00,  0.00000000e+00,\n",
       "        0.00000000e+00,  0.00000000e+00,  0.00000000e+00,  0.00000000e+00,\n",
       "        0.00000000e+00, -8.32667268e-17, -1.21277433e-11, -1.33767372e-11,\n",
       "       -5.17673316e-11,  5.17673316e-11,  0.00000000e+00,  0.00000000e+00,\n",
       "        0.00000000e+00,  0.00000000e+00,  0.00000000e+00,  0.00000000e+00,\n",
       "       -9.87383492e-17,  0.00000000e+00,  0.00000000e+00, -1.20530211e-20,\n",
       "        0.00000000e+00,  4.70821139e-23, -5.88526423e-24,  9.19572536e-26,\n",
       "        8.43769499e-15,  3.37507799e-14,  5.70654635e-14,  2.05169215e-13,\n",
       "        2.91322522e-13,  1.98951966e-13,  1.70530257e-13,  2.27373675e-13,\n",
       "       -5.40012479e-13, -1.47792889e-12, -1.53477231e-11, -7.56017471e-12,\n",
       "       -4.40536496e-13,  2.55795385e-13,  1.20792265e-13,  3.55271368e-15,\n",
       "        2.13162821e-14,  5.55111512e-15,  0.00000000e+00,  0.00000000e+00,\n",
       "        0.00000000e+00,  0.00000000e+00,  1.28785871e-14,  1.15463195e-14,\n",
       "        2.30926389e-14,  8.88178420e-15, -1.59872116e-14,  1.35003120e-13,\n",
       "        5.96855898e-13,  9.09494702e-13,  2.38742359e-12,  2.27373675e-12,\n",
       "        2.72848411e-12,  2.72848411e-12,  0.00000000e+00,  3.63797881e-12,\n",
       "        7.27595761e-12,  7.27595761e-12, -1.27329258e-11, -1.81898940e-11,\n",
       "        2.27373675e-12,  2.72848411e-12,  4.54747351e-13,  1.13686838e-13,\n",
       "       -8.52651283e-14,  1.42108547e-13,  5.32907052e-14, -8.88178420e-16,\n",
       "        0.00000000e+00,  0.00000000e+00,  0.00000000e+00,  2.13162821e-14,\n",
       "        1.42108547e-14, -5.15143483e-14,  2.82440737e-13,  1.13686838e-12,\n",
       "        1.81898940e-12,  3.18323146e-12,  4.54747351e-12,  1.81898940e-12,\n",
       "       -3.63797881e-12,  0.00000000e+00, -1.45519152e-11, -7.27595761e-12,\n",
       "       -2.91038305e-11, -1.45519152e-11, -2.18278728e-11, -4.00177669e-11,\n",
       "       -1.45519152e-11, -1.81898940e-12, -5.45696821e-12, -9.09494702e-13,\n",
       "        0.00000000e+00,  4.54747351e-13,  1.70530257e-13,  1.77635684e-15,\n",
       "        0.00000000e+00,  0.00000000e+00,  4.26325641e-14,  1.42108547e-13,\n",
       "        3.97903932e-13,  1.13686838e-13,  9.09494702e-13,  1.42108547e-12,\n",
       "        1.13686838e-12,  9.09494702e-13, -1.81898940e-12, -1.45519152e-11,\n",
       "       -4.36557457e-11, -3.63797881e-11, -5.09317033e-11, -1.45519152e-11,\n",
       "       -7.27595761e-12, -4.36557457e-11, -2.18278728e-11, -5.09317033e-11,\n",
       "        0.00000000e+00, -2.18278728e-11, -1.27329258e-11, -6.36646291e-12,\n",
       "       -9.09494702e-13,  2.27373675e-13,  1.42108547e-13, -3.90798505e-14,\n",
       "        4.44089210e-15,  6.39488462e-14,  3.97903932e-13,  6.82121026e-13,\n",
       "        3.63797881e-12,  1.81898940e-12,  5.45696821e-12,  1.09139364e-11,\n",
       "        7.27595761e-12, -3.63797881e-12, -1.90993887e-11, -3.63797881e-11,\n",
       "       -5.45696821e-11, -4.36557457e-11, -3.27418093e-11, -4.36557457e-11,\n",
       "       -3.63797881e-11, -3.63797881e-11, -4.72937245e-11, -4.00177669e-11,\n",
       "       -1.81898940e-11, -2.91038305e-11, -2.18278728e-11, -1.27329258e-11,\n",
       "       -1.81898940e-12,  2.27373675e-13,  1.13686838e-13, -4.61852778e-14,\n",
       "        2.13162821e-14,  3.41060513e-13,  1.59161573e-12,  4.54747351e-12,\n",
       "        7.27595761e-12,  1.09139364e-11,  1.45519152e-11,  1.09139364e-11,\n",
       "        7.27595761e-12, -7.27595761e-12, -2.18278728e-11, -2.81943358e-11,\n",
       "       -2.22826202e-11, -1.45519152e-11, -1.81898940e-11, -3.63797881e-12,\n",
       "        7.27595761e-12, -1.81898940e-11, -4.18367563e-11, -4.18367563e-11,\n",
       "       -2.72848411e-11, -2.54658516e-11, -1.81898940e-11, -7.27595761e-12,\n",
       "       -2.72848411e-12, -9.09494702e-13,  2.27373675e-13,  4.97379915e-14,\n",
       "        5.32907052e-14,  6.25277607e-13,  2.27373675e-12,  4.54747351e-12,\n",
       "        7.27595761e-12,  1.45519152e-11,  1.81898940e-11,  2.54658516e-11,\n",
       "        1.09139364e-11, -7.27595761e-12, -1.45519152e-11, -1.45519152e-11,\n",
       "       -1.45519152e-11, -3.63797881e-12,  2.18278728e-11,  7.27595761e-12,\n",
       "        2.18278728e-11,  7.27595761e-12, -1.81898940e-11, -3.00133252e-11,\n",
       "       -2.54658516e-11, -2.36468622e-11, -1.81898940e-11, -9.09494702e-12,\n",
       "       -7.27595761e-12, -1.13686838e-12,  0.00000000e+00,  9.59232693e-14,\n",
       "        5.32907052e-14,  5.68434189e-13,  9.09494702e-13,  1.81898940e-12,\n",
       "        9.09494702e-12,  1.81898940e-11,  2.54658516e-11,  3.63797881e-12,\n",
       "        2.54658516e-11,  3.63797881e-12, -2.54658516e-11, -2.50111043e-11,\n",
       "       -1.36424205e-11, -9.09494702e-12, -3.63797881e-12,  0.00000000e+00,\n",
       "        7.27595761e-12,  1.81898940e-11, -1.27329258e-11, -2.09183781e-11,\n",
       "       -1.72803993e-11, -2.18278728e-11, -1.54614099e-11, -1.00044417e-11,\n",
       "       -3.18323146e-12, -9.09494702e-13,  3.12638804e-13,  7.46069873e-14,\n",
       "        4.26325641e-14,  4.54747351e-13,  6.82121026e-13,  3.63797881e-12,\n",
       "        5.45696821e-12,  1.09139364e-11,  3.63797881e-12,  1.81898940e-11,\n",
       "        1.45519152e-11, -1.36424205e-11, -2.45563569e-11, -2.18278728e-11,\n",
       "       -3.63797881e-11, -1.81898940e-11, -2.72848411e-12, -2.72848411e-12,\n",
       "        1.81898940e-12,  2.50111043e-12, -3.63797881e-12, -2.18278728e-11,\n",
       "       -2.13731255e-11, -2.04636308e-11, -1.40971679e-11, -5.00222086e-12,\n",
       "       -4.54747351e-13,  5.68434189e-13,  3.69482223e-13, -1.24344979e-14,\n",
       "        1.42108547e-14,  2.84217094e-13,  1.02318154e-12,  1.81898940e-12,\n",
       "        4.54747351e-12,  5.45696821e-12,  7.27595761e-12,  1.09139364e-11,\n",
       "        1.27329258e-11, -5.45696821e-12, -1.81898940e-11, -3.63797881e-11,\n",
       "       -2.18278728e-11, -7.27595761e-12, -1.45519152e-11, -1.45519152e-11,\n",
       "       -3.63797881e-12, -1.09139364e-11, -3.63797881e-12, -1.63709046e-11,\n",
       "       -1.27329258e-11, -1.36424205e-11, -5.91171556e-12, -1.13686838e-12,\n",
       "        1.13686838e-13,  3.41060513e-13,  1.56319402e-13,  3.01980663e-14,\n",
       "        0.00000000e+00,  7.81597009e-14,  3.41060513e-13,  9.09494702e-13,\n",
       "        2.72848411e-12,  2.72848411e-12,  5.45696821e-12,  1.09139364e-11,\n",
       "        1.00044417e-11, -5.45696821e-12, -2.18278728e-11, -7.27595761e-12,\n",
       "       -4.36557457e-11, -2.18278728e-11, -3.63797881e-11, -2.18278728e-11,\n",
       "       -7.27595761e-12, -5.91171556e-12, -7.27595761e-12,  1.09139364e-11,\n",
       "       -1.09139364e-11, -4.09272616e-12, -1.49213975e-12,  1.13686838e-13,\n",
       "        5.11590770e-13,  1.13686838e-13,  4.26325641e-14,  2.66453526e-15,\n",
       "        0.00000000e+00,  1.95399252e-14,  1.42108547e-13,  2.27373675e-13,\n",
       "        6.82121026e-13,  1.81898940e-12,  1.81898940e-12,  9.09494702e-13,\n",
       "        2.72848411e-12, -1.81898940e-12, -2.18278728e-11, -4.36557457e-11,\n",
       "        0.00000000e+00, -2.91038305e-11, -2.91038305e-11, -1.45519152e-11,\n",
       "       -1.45519152e-11, -1.09139364e-11,  7.27595761e-12, -1.09139364e-11,\n",
       "       -3.63797881e-12,  9.09494702e-13,  1.52766688e-12,  1.81898940e-12,\n",
       "        7.10542736e-13,  2.13162821e-13, -8.88178420e-16,  0.00000000e+00,\n",
       "        1.11022302e-15,  0.00000000e+00,  1.42108547e-14,  1.13686838e-13,\n",
       "        0.00000000e+00,  1.81898940e-12,  0.00000000e+00,  0.00000000e+00,\n",
       "       -4.80326889e-12, -9.09494702e-12, -2.54658516e-11, -5.09317033e-11,\n",
       "       -5.09317033e-11, -1.45519152e-11, -2.91038305e-11, -1.81898940e-11,\n",
       "       -2.00088834e-11,  0.00000000e+00,  0.00000000e+00, -3.63797881e-12,\n",
       "        9.09494702e-13,  5.22959454e-12,  5.51381163e-12,  2.92743607e-12,\n",
       "        1.32160949e-12,  3.39506201e-13,  0.00000000e+00,  0.00000000e+00,\n",
       "        6.21724894e-15,  0.00000000e+00, -2.57571742e-14,  2.55795385e-13,\n",
       "        1.13686838e-13,  1.13686838e-12, -2.27373675e-13, -3.75166564e-12,\n",
       "       -6.36646291e-12, -1.81898940e-11, -2.18278728e-11, -2.18278728e-11,\n",
       "       -7.27595761e-11, -1.45519152e-11, -1.45519152e-11, -7.27595761e-12,\n",
       "        0.00000000e+00, -7.27595761e-12,  7.27595761e-12,  1.81898940e-12,\n",
       "        6.59383659e-12,  5.57065505e-12,  6.59383659e-12,  3.46744855e-12,\n",
       "        1.36424205e-12,  1.84741111e-13,  0.00000000e+00,  0.00000000e+00,\n",
       "        0.00000000e+00,  1.77635684e-15,  1.77635684e-15,  1.13686838e-13,\n",
       "        2.27373675e-13, -1.13686838e-13, -2.04636308e-12, -8.18545232e-12,\n",
       "       -2.00088834e-11, -2.18278728e-11, -5.09317033e-11, -2.91038305e-11,\n",
       "       -1.45519152e-11, -7.27595761e-12,  5.45696821e-12,  1.81898940e-12,\n",
       "       -1.09139364e-11,  0.00000000e+00, -1.09139364e-11, -1.84741111e-12,\n",
       "       -4.54747351e-13,  5.00222086e-12,  5.22959454e-12,  3.29691829e-12,\n",
       "        1.53477231e-12,  1.77635684e-13, -1.06581410e-14,  0.00000000e+00,\n",
       "        6.66133815e-15,  4.44089210e-16,  1.95399252e-14,  2.13162821e-14,\n",
       "       -8.17124146e-14, -2.04636308e-12, -1.00044417e-11, -2.00088834e-11,\n",
       "       -2.54658516e-11, -2.91038305e-11, -1.45519152e-11, -2.18278728e-11,\n",
       "       -7.27595761e-12,  0.00000000e+00,  9.09494702e-12, -7.27595761e-12,\n",
       "       -1.81898940e-11, -3.63797881e-12, -1.54614099e-11, -4.54747351e-12,\n",
       "        9.09494702e-13,  2.72848411e-12,  6.36646291e-12,  3.18323146e-12,\n",
       "        1.02318154e-12,  8.17124146e-14, -1.24344979e-14,  0.00000000e+00,\n",
       "        0.00000000e+00, -1.77635684e-15,  3.55271368e-15, -6.21724894e-15,\n",
       "       -7.95807864e-13, -5.00222086e-12, -9.09494702e-12, -2.18278728e-11,\n",
       "       -2.18278728e-11, -3.63797881e-11, -3.63797881e-11, -1.45519152e-11,\n",
       "        3.63797881e-12, -6.36646291e-12,  1.09139364e-11, -3.63797881e-12,\n",
       "       -5.45696821e-12, -5.00222086e-12, -1.09139364e-11, -9.09494702e-12,\n",
       "        2.72848411e-12,  2.72848411e-12,  5.00222086e-12,  2.27373675e-12,\n",
       "        8.24229573e-13,  3.61377595e-14,  0.00000000e+00,  0.00000000e+00,\n",
       "        0.00000000e+00, -3.99680289e-15,  2.22044605e-16, -4.61852778e-14,\n",
       "       -5.68434189e-13, -6.36646291e-12, -1.27329258e-11, -2.54658516e-11,\n",
       "       -2.18278728e-11, -1.45519152e-11, -2.18278728e-11, -2.54658516e-11,\n",
       "       -3.54702934e-11, -2.54658516e-11, -7.27595761e-12, -5.45696821e-12,\n",
       "       -2.93312041e-11, -2.00088834e-11, -1.27329258e-11, -9.09494702e-12,\n",
       "        1.81898940e-12,  4.54747351e-12,  5.00222086e-12,  1.59161573e-12,\n",
       "        5.68434189e-13,  3.37507799e-14,  0.00000000e+00,  0.00000000e+00,\n",
       "        0.00000000e+00,  0.00000000e+00,  0.00000000e+00,  1.06581410e-14,\n",
       "       -8.52651283e-13, -5.00222086e-12, -1.09139364e-11, -2.54658516e-11,\n",
       "        0.00000000e+00,  0.00000000e+00, -1.45519152e-11, -2.91038305e-11,\n",
       "       -1.81898940e-11, -1.86446414e-11, -1.90993887e-11, -2.00088834e-11,\n",
       "       -7.27595761e-12, -3.27418093e-11,  1.81898940e-12,  0.00000000e+00,\n",
       "        3.63797881e-12,  4.54747351e-12,  3.63797881e-12,  1.13686838e-12,\n",
       "        1.84741111e-13,  1.86517468e-14,  0.00000000e+00,  0.00000000e+00,\n",
       "        0.00000000e+00,  0.00000000e+00,  0.00000000e+00,  2.48689958e-14,\n",
       "       -1.13686838e-13, -1.81898940e-12, -1.09139364e-11, -1.45519152e-11,\n",
       "       -3.63797881e-11, -2.91038305e-11, -7.27595761e-12, -5.09317033e-11,\n",
       "       -2.54658516e-11, -9.09494702e-12, -1.45519152e-11, -1.27329258e-11,\n",
       "        0.00000000e+00,  9.09494702e-12,  7.27595761e-12,  3.63797881e-12,\n",
       "        5.00222086e-12,  2.50111043e-12,  1.47792889e-12,  3.41060513e-13,\n",
       "        7.81597009e-14,  1.99840144e-14,  0.00000000e+00,  0.00000000e+00,\n",
       "        0.00000000e+00,  0.00000000e+00,  0.00000000e+00,  8.88178420e-15,\n",
       "        1.42108547e-13, -1.36424205e-12, -7.27595761e-12, -7.27595761e-12,\n",
       "       -2.91038305e-11, -3.27418093e-11, -3.63797881e-11, -4.36557457e-11,\n",
       "       -4.36557457e-11, -2.18278728e-11, -1.27329258e-11, -1.27329258e-11,\n",
       "       -3.63797881e-12,  1.27329258e-11,  9.54969437e-12,  6.13908924e-12,\n",
       "        2.61479727e-12,  1.42108547e-12,  5.40012479e-13,  2.20268248e-13,\n",
       "        1.04360964e-13,  6.21724894e-15,  0.00000000e+00,  0.00000000e+00,\n",
       "        0.00000000e+00,  0.00000000e+00, -7.54951657e-15,  2.93098879e-14,\n",
       "        5.32907052e-14, -2.27373675e-13, -4.54747351e-13, -2.27373675e-12,\n",
       "       -1.63709046e-11, -2.18278728e-11, -3.63797881e-11, -3.91082722e-11,\n",
       "       -2.79669621e-11, -1.09139364e-11, -3.63797881e-12,  9.09494702e-12,\n",
       "        7.27595761e-12,  8.18545232e-12,  8.18545232e-12,  4.54747351e-13,\n",
       "        1.36424205e-12,  4.54747351e-13,  1.81188398e-13,  9.23705556e-14,\n",
       "        2.13162821e-14,  4.44089210e-16,  0.00000000e+00,  0.00000000e+00,\n",
       "        0.00000000e+00,  0.00000000e+00,  0.00000000e+00,  4.70734562e-14,\n",
       "        1.10134124e-13,  2.84217094e-14,  0.00000000e+00,  9.09494702e-13,\n",
       "       -4.54747351e-12, -1.27329258e-11, -1.45519152e-11, -3.63797881e-12,\n",
       "        7.27595761e-12,  3.63797881e-12,  7.27595761e-12,  1.09139364e-11,\n",
       "        1.81898940e-11,  9.09494702e-12,  5.45696821e-12,  2.72848411e-12,\n",
       "        1.02318154e-12,  6.82121026e-13,  2.55795385e-13,  9.25926003e-14,\n",
       "        3.55271368e-15,  0.00000000e+00,  0.00000000e+00,  0.00000000e+00,\n",
       "        0.00000000e+00,  0.00000000e+00,  0.00000000e+00,  0.00000000e+00,\n",
       "        7.46069873e-14,  1.98951966e-13,  1.36424205e-12,  2.72848411e-12,\n",
       "        0.00000000e+00,  1.81898940e-12, -7.27595761e-12,  1.09139364e-11,\n",
       "        0.00000000e+00,  7.27595761e-12,  1.81898940e-11,  1.81898940e-11,\n",
       "        9.09494702e-12,  5.45696821e-12,  2.27373675e-12,  2.04636308e-12,\n",
       "        5.68434189e-13,  3.97903932e-13,  2.98427949e-13,  6.21724894e-14,\n",
       "        0.00000000e+00, -2.88657986e-15,  0.00000000e+00,  0.00000000e+00,\n",
       "        0.00000000e+00,  0.00000000e+00,  0.00000000e+00,  0.00000000e+00,\n",
       "        2.66453526e-14,  7.10542736e-14,  8.52651283e-14,  3.97903932e-13,\n",
       "        5.68434189e-14, -1.13686838e-13,  4.54747351e-13,  9.09494702e-13,\n",
       "        1.81898940e-12,  2.27373675e-12,  3.63797881e-12,  4.54747351e-12,\n",
       "        3.63797881e-12,  1.81898940e-12,  1.25055521e-12,  3.41060513e-13,\n",
       "        1.42108547e-13,  1.06581410e-13,  1.42108547e-13,  2.57571742e-14,\n",
       "        0.00000000e+00,  0.00000000e+00,  0.00000000e+00,  0.00000000e+00])"
      ]
     },
     "execution_count": 86,
     "metadata": {},
     "output_type": "execute_result"
    }
   ],
   "source": [
    "np.dot(C,col)-(λ[-1]*col) #If the matrix product C.col is the same as λ[-1]*col, this should evaluate to [0,0,0]"
   ]
  },
  {
   "cell_type": "code",
   "execution_count": 87,
   "metadata": {},
   "outputs": [
    {
     "data": {
      "text/plain": [
       "array([ 0.00000000e+00,  0.00000000e+00,  0.00000000e+00,  0.00000000e+00,\n",
       "        0.00000000e+00,  0.00000000e+00,  0.00000000e+00,  0.00000000e+00,\n",
       "        0.00000000e+00,  0.00000000e+00,  0.00000000e+00,  0.00000000e+00,\n",
       "        0.00000000e+00,  0.00000000e+00,  0.00000000e+00,  0.00000000e+00,\n",
       "        0.00000000e+00,  0.00000000e+00,  0.00000000e+00,  0.00000000e+00,\n",
       "        0.00000000e+00,  0.00000000e+00,  0.00000000e+00,  0.00000000e+00,\n",
       "        0.00000000e+00,  0.00000000e+00,  0.00000000e+00,  0.00000000e+00,\n",
       "        0.00000000e+00,  0.00000000e+00,  0.00000000e+00,  0.00000000e+00,\n",
       "        0.00000000e+00,  0.00000000e+00,  0.00000000e+00,  0.00000000e+00,\n",
       "        0.00000000e+00,  0.00000000e+00,  0.00000000e+00,  0.00000000e+00,\n",
       "        0.00000000e+00,  0.00000000e+00,  0.00000000e+00,  0.00000000e+00,\n",
       "        0.00000000e+00,  0.00000000e+00,  0.00000000e+00,  0.00000000e+00,\n",
       "        0.00000000e+00,  0.00000000e+00,  0.00000000e+00,  0.00000000e+00,\n",
       "        0.00000000e+00,  0.00000000e+00,  0.00000000e+00,  0.00000000e+00,\n",
       "        0.00000000e+00,  0.00000000e+00,  0.00000000e+00,  0.00000000e+00,\n",
       "        0.00000000e+00,  0.00000000e+00,  0.00000000e+00,  0.00000000e+00,\n",
       "        0.00000000e+00,  0.00000000e+00,  0.00000000e+00,  0.00000000e+00,\n",
       "        0.00000000e+00,  0.00000000e+00,  0.00000000e+00,  0.00000000e+00,\n",
       "        0.00000000e+00, -8.32667268e-17, -1.21277433e-11, -1.33767372e-11,\n",
       "       -5.17673316e-11,  5.17673316e-11,  0.00000000e+00,  0.00000000e+00,\n",
       "        0.00000000e+00,  0.00000000e+00,  0.00000000e+00,  0.00000000e+00,\n",
       "       -9.87383492e-17,  0.00000000e+00,  0.00000000e+00, -1.20530211e-20,\n",
       "        0.00000000e+00,  4.70821139e-23, -5.88526423e-24,  9.19572536e-26,\n",
       "        8.43769499e-15,  3.37507799e-14,  5.70654635e-14,  2.05169215e-13,\n",
       "        2.91322522e-13,  1.98951966e-13,  1.70530257e-13,  2.27373675e-13,\n",
       "       -5.40012479e-13, -1.47792889e-12, -1.53477231e-11, -7.56017471e-12,\n",
       "       -4.40536496e-13,  2.55795385e-13,  1.20792265e-13,  3.55271368e-15,\n",
       "        2.13162821e-14,  5.55111512e-15,  0.00000000e+00,  0.00000000e+00,\n",
       "        0.00000000e+00,  0.00000000e+00,  1.28785871e-14,  1.15463195e-14,\n",
       "        2.30926389e-14,  8.88178420e-15, -1.59872116e-14,  1.35003120e-13,\n",
       "        5.96855898e-13,  9.09494702e-13,  2.38742359e-12,  2.27373675e-12,\n",
       "        2.72848411e-12,  2.72848411e-12,  0.00000000e+00,  3.63797881e-12,\n",
       "        7.27595761e-12,  7.27595761e-12, -1.27329258e-11, -1.81898940e-11,\n",
       "        2.27373675e-12,  2.72848411e-12,  4.54747351e-13,  1.13686838e-13,\n",
       "       -8.52651283e-14,  1.42108547e-13,  5.32907052e-14, -8.88178420e-16,\n",
       "        0.00000000e+00,  0.00000000e+00,  0.00000000e+00,  2.13162821e-14,\n",
       "        1.42108547e-14, -5.15143483e-14,  2.82440737e-13,  1.13686838e-12,\n",
       "        1.81898940e-12,  3.18323146e-12,  4.54747351e-12,  1.81898940e-12,\n",
       "       -3.63797881e-12,  0.00000000e+00, -1.45519152e-11, -7.27595761e-12,\n",
       "       -2.91038305e-11, -1.45519152e-11, -2.18278728e-11, -4.00177669e-11,\n",
       "       -1.45519152e-11, -1.81898940e-12, -5.45696821e-12, -9.09494702e-13,\n",
       "        0.00000000e+00,  4.54747351e-13,  1.70530257e-13,  1.77635684e-15,\n",
       "        0.00000000e+00,  0.00000000e+00,  4.26325641e-14,  1.42108547e-13,\n",
       "        3.97903932e-13,  1.13686838e-13,  9.09494702e-13,  1.42108547e-12,\n",
       "        1.13686838e-12,  9.09494702e-13, -1.81898940e-12, -1.45519152e-11,\n",
       "       -4.36557457e-11, -3.63797881e-11, -5.09317033e-11, -1.45519152e-11,\n",
       "       -7.27595761e-12, -4.36557457e-11, -2.18278728e-11, -5.09317033e-11,\n",
       "        0.00000000e+00, -2.18278728e-11, -1.27329258e-11, -6.36646291e-12,\n",
       "       -9.09494702e-13,  2.27373675e-13,  1.42108547e-13, -3.90798505e-14,\n",
       "        4.44089210e-15,  6.39488462e-14,  3.97903932e-13,  6.82121026e-13,\n",
       "        3.63797881e-12,  1.81898940e-12,  5.45696821e-12,  1.09139364e-11,\n",
       "        7.27595761e-12, -3.63797881e-12, -1.90993887e-11, -3.63797881e-11,\n",
       "       -5.45696821e-11, -4.36557457e-11, -3.27418093e-11, -4.36557457e-11,\n",
       "       -3.63797881e-11, -3.63797881e-11, -4.72937245e-11, -4.00177669e-11,\n",
       "       -1.81898940e-11, -2.91038305e-11, -2.18278728e-11, -1.27329258e-11,\n",
       "       -1.81898940e-12,  2.27373675e-13,  1.13686838e-13, -4.61852778e-14,\n",
       "        2.13162821e-14,  3.41060513e-13,  1.59161573e-12,  4.54747351e-12,\n",
       "        7.27595761e-12,  1.09139364e-11,  1.45519152e-11,  1.09139364e-11,\n",
       "        7.27595761e-12, -7.27595761e-12, -2.18278728e-11, -2.81943358e-11,\n",
       "       -2.22826202e-11, -1.45519152e-11, -1.81898940e-11, -3.63797881e-12,\n",
       "        7.27595761e-12, -1.81898940e-11, -4.18367563e-11, -4.18367563e-11,\n",
       "       -2.72848411e-11, -2.54658516e-11, -1.81898940e-11, -7.27595761e-12,\n",
       "       -2.72848411e-12, -9.09494702e-13,  2.27373675e-13,  4.97379915e-14,\n",
       "        5.32907052e-14,  6.25277607e-13,  2.27373675e-12,  4.54747351e-12,\n",
       "        7.27595761e-12,  1.45519152e-11,  1.81898940e-11,  2.54658516e-11,\n",
       "        1.09139364e-11, -7.27595761e-12, -1.45519152e-11, -1.45519152e-11,\n",
       "       -1.45519152e-11, -3.63797881e-12,  2.18278728e-11,  7.27595761e-12,\n",
       "        2.18278728e-11,  7.27595761e-12, -1.81898940e-11, -3.00133252e-11,\n",
       "       -2.54658516e-11, -2.36468622e-11, -1.81898940e-11, -9.09494702e-12,\n",
       "       -7.27595761e-12, -1.13686838e-12,  0.00000000e+00,  9.59232693e-14,\n",
       "        5.32907052e-14,  5.68434189e-13,  9.09494702e-13,  1.81898940e-12,\n",
       "        9.09494702e-12,  1.81898940e-11,  2.54658516e-11,  3.63797881e-12,\n",
       "        2.54658516e-11,  3.63797881e-12, -2.54658516e-11, -2.50111043e-11,\n",
       "       -1.36424205e-11, -9.09494702e-12, -3.63797881e-12,  0.00000000e+00,\n",
       "        7.27595761e-12,  1.81898940e-11, -1.27329258e-11, -2.09183781e-11,\n",
       "       -1.72803993e-11, -2.18278728e-11, -1.54614099e-11, -1.00044417e-11,\n",
       "       -3.18323146e-12, -9.09494702e-13,  3.12638804e-13,  7.46069873e-14,\n",
       "        4.26325641e-14,  4.54747351e-13,  6.82121026e-13,  3.63797881e-12,\n",
       "        5.45696821e-12,  1.09139364e-11,  3.63797881e-12,  1.81898940e-11,\n",
       "        1.45519152e-11, -1.36424205e-11, -2.45563569e-11, -2.18278728e-11,\n",
       "       -3.63797881e-11, -1.81898940e-11, -2.72848411e-12, -2.72848411e-12,\n",
       "        1.81898940e-12,  2.50111043e-12, -3.63797881e-12, -2.18278728e-11,\n",
       "       -2.13731255e-11, -2.04636308e-11, -1.40971679e-11, -5.00222086e-12,\n",
       "       -4.54747351e-13,  5.68434189e-13,  3.69482223e-13, -1.24344979e-14,\n",
       "        1.42108547e-14,  2.84217094e-13,  1.02318154e-12,  1.81898940e-12,\n",
       "        4.54747351e-12,  5.45696821e-12,  7.27595761e-12,  1.09139364e-11,\n",
       "        1.27329258e-11, -5.45696821e-12, -1.81898940e-11, -3.63797881e-11,\n",
       "       -2.18278728e-11, -7.27595761e-12, -1.45519152e-11, -1.45519152e-11,\n",
       "       -3.63797881e-12, -1.09139364e-11, -3.63797881e-12, -1.63709046e-11,\n",
       "       -1.27329258e-11, -1.36424205e-11, -5.91171556e-12, -1.13686838e-12,\n",
       "        1.13686838e-13,  3.41060513e-13,  1.56319402e-13,  3.01980663e-14,\n",
       "        0.00000000e+00,  7.81597009e-14,  3.41060513e-13,  9.09494702e-13,\n",
       "        2.72848411e-12,  2.72848411e-12,  5.45696821e-12,  1.09139364e-11,\n",
       "        1.00044417e-11, -5.45696821e-12, -2.18278728e-11, -7.27595761e-12,\n",
       "       -4.36557457e-11, -2.18278728e-11, -3.63797881e-11, -2.18278728e-11,\n",
       "       -7.27595761e-12, -5.91171556e-12, -7.27595761e-12,  1.09139364e-11,\n",
       "       -1.09139364e-11, -4.09272616e-12, -1.49213975e-12,  1.13686838e-13,\n",
       "        5.11590770e-13,  1.13686838e-13,  4.26325641e-14,  2.66453526e-15,\n",
       "        0.00000000e+00,  1.95399252e-14,  1.42108547e-13,  2.27373675e-13,\n",
       "        6.82121026e-13,  1.81898940e-12,  1.81898940e-12,  9.09494702e-13,\n",
       "        2.72848411e-12, -1.81898940e-12, -2.18278728e-11, -4.36557457e-11,\n",
       "        0.00000000e+00, -2.91038305e-11, -2.91038305e-11, -1.45519152e-11,\n",
       "       -1.45519152e-11, -1.09139364e-11,  7.27595761e-12, -1.09139364e-11,\n",
       "       -3.63797881e-12,  9.09494702e-13,  1.52766688e-12,  1.81898940e-12,\n",
       "        7.10542736e-13,  2.13162821e-13, -8.88178420e-16,  0.00000000e+00,\n",
       "        1.11022302e-15,  0.00000000e+00,  1.42108547e-14,  1.13686838e-13,\n",
       "        0.00000000e+00,  1.81898940e-12,  0.00000000e+00,  0.00000000e+00,\n",
       "       -4.80326889e-12, -9.09494702e-12, -2.54658516e-11, -5.09317033e-11,\n",
       "       -5.09317033e-11, -1.45519152e-11, -2.91038305e-11, -1.81898940e-11,\n",
       "       -2.00088834e-11,  0.00000000e+00,  0.00000000e+00, -3.63797881e-12,\n",
       "        9.09494702e-13,  5.22959454e-12,  5.51381163e-12,  2.92743607e-12,\n",
       "        1.32160949e-12,  3.39506201e-13,  0.00000000e+00,  0.00000000e+00,\n",
       "        6.21724894e-15,  0.00000000e+00, -2.57571742e-14,  2.55795385e-13,\n",
       "        1.13686838e-13,  1.13686838e-12, -2.27373675e-13, -3.75166564e-12,\n",
       "       -6.36646291e-12, -1.81898940e-11, -2.18278728e-11, -2.18278728e-11,\n",
       "       -7.27595761e-11, -1.45519152e-11, -1.45519152e-11, -7.27595761e-12,\n",
       "        0.00000000e+00, -7.27595761e-12,  7.27595761e-12,  1.81898940e-12,\n",
       "        6.59383659e-12,  5.57065505e-12,  6.59383659e-12,  3.46744855e-12,\n",
       "        1.36424205e-12,  1.84741111e-13,  0.00000000e+00,  0.00000000e+00,\n",
       "        0.00000000e+00,  1.77635684e-15,  1.77635684e-15,  1.13686838e-13,\n",
       "        2.27373675e-13, -1.13686838e-13, -2.04636308e-12, -8.18545232e-12,\n",
       "       -2.00088834e-11, -2.18278728e-11, -5.09317033e-11, -2.91038305e-11,\n",
       "       -1.45519152e-11, -7.27595761e-12,  5.45696821e-12,  1.81898940e-12,\n",
       "       -1.09139364e-11,  0.00000000e+00, -1.09139364e-11, -1.84741111e-12,\n",
       "       -4.54747351e-13,  5.00222086e-12,  5.22959454e-12,  3.29691829e-12,\n",
       "        1.53477231e-12,  1.77635684e-13, -1.06581410e-14,  0.00000000e+00,\n",
       "        6.66133815e-15,  4.44089210e-16,  1.95399252e-14,  2.13162821e-14,\n",
       "       -8.17124146e-14, -2.04636308e-12, -1.00044417e-11, -2.00088834e-11,\n",
       "       -2.54658516e-11, -2.91038305e-11, -1.45519152e-11, -2.18278728e-11,\n",
       "       -7.27595761e-12,  0.00000000e+00,  9.09494702e-12, -7.27595761e-12,\n",
       "       -1.81898940e-11, -3.63797881e-12, -1.54614099e-11, -4.54747351e-12,\n",
       "        9.09494702e-13,  2.72848411e-12,  6.36646291e-12,  3.18323146e-12,\n",
       "        1.02318154e-12,  8.17124146e-14, -1.24344979e-14,  0.00000000e+00,\n",
       "        0.00000000e+00, -1.77635684e-15,  3.55271368e-15, -6.21724894e-15,\n",
       "       -7.95807864e-13, -5.00222086e-12, -9.09494702e-12, -2.18278728e-11,\n",
       "       -2.18278728e-11, -3.63797881e-11, -3.63797881e-11, -1.45519152e-11,\n",
       "        3.63797881e-12, -6.36646291e-12,  1.09139364e-11, -3.63797881e-12,\n",
       "       -5.45696821e-12, -5.00222086e-12, -1.09139364e-11, -9.09494702e-12,\n",
       "        2.72848411e-12,  2.72848411e-12,  5.00222086e-12,  2.27373675e-12,\n",
       "        8.24229573e-13,  3.61377595e-14,  0.00000000e+00,  0.00000000e+00,\n",
       "        0.00000000e+00, -3.99680289e-15,  2.22044605e-16, -4.61852778e-14,\n",
       "       -5.68434189e-13, -6.36646291e-12, -1.27329258e-11, -2.54658516e-11,\n",
       "       -2.18278728e-11, -1.45519152e-11, -2.18278728e-11, -2.54658516e-11,\n",
       "       -3.54702934e-11, -2.54658516e-11, -7.27595761e-12, -5.45696821e-12,\n",
       "       -2.93312041e-11, -2.00088834e-11, -1.27329258e-11, -9.09494702e-12,\n",
       "        1.81898940e-12,  4.54747351e-12,  5.00222086e-12,  1.59161573e-12,\n",
       "        5.68434189e-13,  3.37507799e-14,  0.00000000e+00,  0.00000000e+00,\n",
       "        0.00000000e+00,  0.00000000e+00,  0.00000000e+00,  1.06581410e-14,\n",
       "       -8.52651283e-13, -5.00222086e-12, -1.09139364e-11, -2.54658516e-11,\n",
       "        0.00000000e+00,  0.00000000e+00, -1.45519152e-11, -2.91038305e-11,\n",
       "       -1.81898940e-11, -1.86446414e-11, -1.90993887e-11, -2.00088834e-11,\n",
       "       -7.27595761e-12, -3.27418093e-11,  1.81898940e-12,  0.00000000e+00,\n",
       "        3.63797881e-12,  4.54747351e-12,  3.63797881e-12,  1.13686838e-12,\n",
       "        1.84741111e-13,  1.86517468e-14,  0.00000000e+00,  0.00000000e+00,\n",
       "        0.00000000e+00,  0.00000000e+00,  0.00000000e+00,  2.48689958e-14,\n",
       "       -1.13686838e-13, -1.81898940e-12, -1.09139364e-11, -1.45519152e-11,\n",
       "       -3.63797881e-11, -2.91038305e-11, -7.27595761e-12, -5.09317033e-11,\n",
       "       -2.54658516e-11, -9.09494702e-12, -1.45519152e-11, -1.27329258e-11,\n",
       "        0.00000000e+00,  9.09494702e-12,  7.27595761e-12,  3.63797881e-12,\n",
       "        5.00222086e-12,  2.50111043e-12,  1.47792889e-12,  3.41060513e-13,\n",
       "        7.81597009e-14,  1.99840144e-14,  0.00000000e+00,  0.00000000e+00,\n",
       "        0.00000000e+00,  0.00000000e+00,  0.00000000e+00,  8.88178420e-15,\n",
       "        1.42108547e-13, -1.36424205e-12, -7.27595761e-12, -7.27595761e-12,\n",
       "       -2.91038305e-11, -3.27418093e-11, -3.63797881e-11, -4.36557457e-11,\n",
       "       -4.36557457e-11, -2.18278728e-11, -1.27329258e-11, -1.27329258e-11,\n",
       "       -3.63797881e-12,  1.27329258e-11,  9.54969437e-12,  6.13908924e-12,\n",
       "        2.61479727e-12,  1.42108547e-12,  5.40012479e-13,  2.20268248e-13,\n",
       "        1.04360964e-13,  6.21724894e-15,  0.00000000e+00,  0.00000000e+00,\n",
       "        0.00000000e+00,  0.00000000e+00, -7.54951657e-15,  2.93098879e-14,\n",
       "        5.32907052e-14, -2.27373675e-13, -4.54747351e-13, -2.27373675e-12,\n",
       "       -1.63709046e-11, -2.18278728e-11, -3.63797881e-11, -3.91082722e-11,\n",
       "       -2.79669621e-11, -1.09139364e-11, -3.63797881e-12,  9.09494702e-12,\n",
       "        7.27595761e-12,  8.18545232e-12,  8.18545232e-12,  4.54747351e-13,\n",
       "        1.36424205e-12,  4.54747351e-13,  1.81188398e-13,  9.23705556e-14,\n",
       "        2.13162821e-14,  4.44089210e-16,  0.00000000e+00,  0.00000000e+00,\n",
       "        0.00000000e+00,  0.00000000e+00,  0.00000000e+00,  4.70734562e-14,\n",
       "        1.10134124e-13,  2.84217094e-14,  0.00000000e+00,  9.09494702e-13,\n",
       "       -4.54747351e-12, -1.27329258e-11, -1.45519152e-11, -3.63797881e-12,\n",
       "        7.27595761e-12,  3.63797881e-12,  7.27595761e-12,  1.09139364e-11,\n",
       "        1.81898940e-11,  9.09494702e-12,  5.45696821e-12,  2.72848411e-12,\n",
       "        1.02318154e-12,  6.82121026e-13,  2.55795385e-13,  9.25926003e-14,\n",
       "        3.55271368e-15,  0.00000000e+00,  0.00000000e+00,  0.00000000e+00,\n",
       "        0.00000000e+00,  0.00000000e+00,  0.00000000e+00,  0.00000000e+00,\n",
       "        7.46069873e-14,  1.98951966e-13,  1.36424205e-12,  2.72848411e-12,\n",
       "        0.00000000e+00,  1.81898940e-12, -7.27595761e-12,  1.09139364e-11,\n",
       "        0.00000000e+00,  7.27595761e-12,  1.81898940e-11,  1.81898940e-11,\n",
       "        9.09494702e-12,  5.45696821e-12,  2.27373675e-12,  2.04636308e-12,\n",
       "        5.68434189e-13,  3.97903932e-13,  2.98427949e-13,  6.21724894e-14,\n",
       "        0.00000000e+00, -2.88657986e-15,  0.00000000e+00,  0.00000000e+00,\n",
       "        0.00000000e+00,  0.00000000e+00,  0.00000000e+00,  0.00000000e+00,\n",
       "        2.66453526e-14,  7.10542736e-14,  8.52651283e-14,  3.97903932e-13,\n",
       "        5.68434189e-14, -1.13686838e-13,  4.54747351e-13,  9.09494702e-13,\n",
       "        1.81898940e-12,  2.27373675e-12,  3.63797881e-12,  4.54747351e-12,\n",
       "        3.63797881e-12,  1.81898940e-12,  1.25055521e-12,  3.41060513e-13,\n",
       "        1.42108547e-13,  1.06581410e-13,  1.42108547e-13,  2.57571742e-14,\n",
       "        0.00000000e+00,  0.00000000e+00,  0.00000000e+00,  0.00000000e+00])"
      ]
     },
     "execution_count": 87,
     "metadata": {},
     "output_type": "execute_result"
    }
   ],
   "source": [
    "λ=np.flipud(λ);V=np.flipud(V.T);\n",
    "row=V[0,:]; #Check once again\n",
    "np.dot(C,row)-(λ[0]*row) #If the matrix product C.row is the same as λ[0]*row, this should evaluate to [0,0,0]"
   ]
  },
  {
   "cell_type": "code",
   "execution_count": 88,
   "metadata": {},
   "outputs": [
    {
     "data": {
      "text/plain": [
       "True"
      ]
     },
     "execution_count": 88,
     "metadata": {},
     "output_type": "execute_result"
    }
   ],
   "source": [
    "np.allclose(np.dot(C,row),λ[0]*row)"
   ]
  },
  {
   "cell_type": "code",
   "execution_count": 89,
   "metadata": {},
   "outputs": [],
   "source": [
    "P=np.dot(Z,V.T)\n",
    "R=np.dot(P,V)\n",
    "Xrec=R+μ"
   ]
  },
  {
   "cell_type": "code",
   "execution_count": 132,
   "metadata": {},
   "outputs": [],
   "source": [
    "μ_2 = μ.transpose()"
   ]
  },
  {
   "cell_type": "code",
   "execution_count": 133,
   "metadata": {},
   "outputs": [
    {
     "data": {
      "text/plain": [
       "(784,)"
      ]
     },
     "execution_count": 133,
     "metadata": {},
     "output_type": "execute_result"
    }
   ],
   "source": [
    "μ_2.shape"
   ]
  },
  {
   "cell_type": "code",
   "execution_count": 91,
   "metadata": {},
   "outputs": [
    {
     "name": "stdout",
     "output_type": "stream",
     "text": [
      "Written mu, v1, v2\n"
     ]
    }
   ],
   "source": [
    "writeExcelData(μ_1,excelfile,'Results',2,2)\n",
    "writeExcelData(V[0:1,:],excelfile,'Results',3,2)\n",
    "writeExcelData(V[1:2,:],excelfile,'Results',4,2)\n",
    "print(\"Written mu, v1, v2\")"
   ]
  },
  {
   "cell_type": "markdown",
   "metadata": {},
   "source": [
    "### 2-D Dimension"
   ]
  },
  {
   "cell_type": "code",
   "execution_count": 92,
   "metadata": {},
   "outputs": [],
   "source": [
    "P2=np.dot(Z,V.T)\n",
    "P2=P2[:,0:2]"
   ]
  },
  {
   "cell_type": "code",
   "execution_count": 93,
   "metadata": {},
   "outputs": [
    {
     "data": {
      "text/plain": [
       "(12116, 2)"
      ]
     },
     "execution_count": 93,
     "metadata": {},
     "output_type": "execute_result"
    }
   ],
   "source": [
    "P2.shape"
   ]
  },
  {
   "cell_type": "code",
   "execution_count": 94,
   "metadata": {},
   "outputs": [
    {
     "data": {
      "text/plain": [
       "array([6.60671034e-14, 2.81402135e-14])"
      ]
     },
     "execution_count": 94,
     "metadata": {},
     "output_type": "execute_result"
    }
   ],
   "source": [
    "np.mean(P2,axis=0)"
   ]
  },
  {
   "cell_type": "markdown",
   "metadata": {},
   "source": [
    "### Input"
   ]
  },
  {
   "cell_type": "code",
   "execution_count": 95,
   "metadata": {},
   "outputs": [
    {
     "name": "stdout",
     "output_type": "stream",
     "text": [
      "5851 6265\n"
     ]
    }
   ],
   "source": [
    "count(T,0,0)"
   ]
  },
  {
   "cell_type": "code",
   "execution_count": 96,
   "metadata": {},
   "outputs": [],
   "source": [
    "P21, P22 = seperate(T,P2,[],[])"
   ]
  },
  {
   "cell_type": "code",
   "execution_count": 97,
   "metadata": {},
   "outputs": [
    {
     "name": "stdout",
     "output_type": "stream",
     "text": [
      "[-621.53473829  -93.63323005] [580.46284976  87.44581469]\n"
     ]
    }
   ],
   "source": [
    "P21 = np.asarray(P21)\n",
    "P22 = np.asarray(P22)\n",
    "P21m=np.mean(P21,axis=0)\n",
    "P22m=np.mean(P22,axis=0)\n",
    "print(P21m, P22m)"
   ]
  },
  {
   "cell_type": "code",
   "execution_count": 98,
   "metadata": {},
   "outputs": [
    {
     "name": "stdout",
     "output_type": "stream",
     "text": [
      "Written mup, mun\n"
     ]
    }
   ],
   "source": [
    "writeExcelData([P21m,P22m],excelfile,'Results',9,2)\n",
    "print(\"Written mup, mun\")"
   ]
  },
  {
   "cell_type": "markdown",
   "metadata": {},
   "source": [
    "### Testing Data"
   ]
  },
  {
   "cell_type": "code",
   "execution_count": 99,
   "metadata": {},
   "outputs": [],
   "source": [
    "XP, TP = load_mnist(dataset=\"testing\",selecteddigits=[8])"
   ]
  },
  {
   "cell_type": "code",
   "execution_count": 100,
   "metadata": {},
   "outputs": [],
   "source": [
    "ZP=XP-μ"
   ]
  },
  {
   "cell_type": "code",
   "execution_count": 101,
   "metadata": {},
   "outputs": [],
   "source": [
    "PP=np.dot(ZP,V.T)\n",
    "PP=PP[:,0:2]\n",
    "RP=np.dot(PP,V[0:2,:])\n",
    "XrecP=RP+μ"
   ]
  },
  {
   "cell_type": "code",
   "execution_count": 102,
   "metadata": {},
   "outputs": [
    {
     "name": "stdout",
     "output_type": "stream",
     "text": [
      "Written xp, zp, rp, pp, xrecp\n"
     ]
    }
   ],
   "source": [
    "writeExcelData(XP[0:1,:],excelfile,'Results',88,2)\n",
    "writeExcelData(ZP[0:1,:],excelfile,'Results',89,2)\n",
    "writeExcelData(PP[0:1,:],excelfile,'Results',90,2)\n",
    "writeExcelData(RP[0:1,:],excelfile,'Results',91,2)\n",
    "writeExcelData(XrecP[0:1,:],excelfile,'Results',92,2)\n",
    "print(\"Written xp, zp, rp, pp, xrecp\")"
   ]
  },
  {
   "cell_type": "code",
   "execution_count": 103,
   "metadata": {},
   "outputs": [],
   "source": [
    "XN, TN = load_mnist(dataset=\"testing\",selecteddigits=[7])"
   ]
  },
  {
   "cell_type": "code",
   "execution_count": 104,
   "metadata": {},
   "outputs": [],
   "source": [
    "ZN=XN-μ"
   ]
  },
  {
   "cell_type": "code",
   "execution_count": 105,
   "metadata": {},
   "outputs": [],
   "source": [
    "PN=np.dot(ZN,V.T)\n",
    "PN=PN[:,0:2]\n",
    "RN=np.dot(PN,V[0:2,:])\n",
    "XrecN=RN+μ"
   ]
  },
  {
   "cell_type": "code",
   "execution_count": 106,
   "metadata": {},
   "outputs": [
    {
     "name": "stdout",
     "output_type": "stream",
     "text": [
      "Written xn, zn, rn, pn, xrecn\n"
     ]
    }
   ],
   "source": [
    "writeExcelData(XN[0:1,:],excelfile,'Results',94,2)\n",
    "writeExcelData(ZN[0:1,:],excelfile,'Results',95,2)\n",
    "writeExcelData(PN[0:1,:],excelfile,'Results',96,2)\n",
    "writeExcelData(RN[0:1,:],excelfile,'Results',97,2)\n",
    "writeExcelData(XrecN[0:1,:],excelfile,'Results',98,2)\n",
    "print(\"Written xn, zn, rn, pn, xrecn\")"
   ]
  },
  {
   "cell_type": "markdown",
   "metadata": {},
   "source": [
    "### Apply Histogram Classifier"
   ]
  },
  {
   "cell_type": "code",
   "execution_count": null,
   "metadata": {},
   "outputs": [],
   "source": [
    "def Build2DHistogramClassifier(X,T,B,xmin,xmax):\n",
    "    H7=np.zeros([B,B]).astype('int32');\n",
    "    H8=np.zeros([B,B]).astype('int32');\n",
    "    binindices=(np.round(((B-1)*(X-xmin)/(xmax-xmin)))).astype('int32');\n",
    "    for i,x in enumerate(binindices):\n",
    "        if T[i]==7:\n",
    "            H7[x[0],x[1]]+=1;\n",
    "        else:\n",
    "            H8[x[0],x[1]]+=1;\n",
    "    return [H8, H7]"
   ]
  },
  {
   "cell_type": "code",
   "execution_count": null,
   "metadata": {},
   "outputs": [],
   "source": [
    "def Apply2DHistogramClassifier(queries,H8,H7,xmin,xmax):\n",
    "    B=np.alen(H8);\n",
    "    binindices=(np.round(((B-1)*(queries-xmin)/(xmax-xmin)))).astype('int32');\n",
    "    count7=H7[binindices[:,0],binindices[:,1]];\n",
    "    count8=H8[binindices[:,0],binindices[:,1]];\n",
    "    resultlabel=np.full(np.alen(binindices),\"Indeterminate\",dtype=object);\n",
    "    resultprob=np.full(np.alen(binindices),np.nan,dtype=object);\n",
    "    indices7=count7>count8;\n",
    "    indices8=count8>count7;\n",
    "    resultlabel[indices7]=\"7\";\n",
    "    resultlabel[indices8]=\"8\";\n",
    "    prob7=count7/(count7+count8);\n",
    "    prob8=count8/(count7+count8);\n",
    "    resultprob[indices7]=prob7[indices7];\n",
    "    resultprob[indices8]=prob8[indices8];\n",
    "    return resultlabel, resultprob"
   ]
  },
  {
   "cell_type": "code",
   "execution_count": 107,
   "metadata": {},
   "outputs": [],
   "source": [
    "B=32\n",
    "xmin=np.amin(P2,axis=0)\n",
    "xmax=np.amax(P2,axis=0)\n",
    "[H8,H7]=Build2DHistogramClassifier(P2,T,B,xmin,xmax)"
   ]
  },
  {
   "cell_type": "code",
   "execution_count": 108,
   "metadata": {},
   "outputs": [
    {
     "name": "stdout",
     "output_type": "stream",
     "text": [
      "Written Hp, Hn\n"
     ]
    }
   ],
   "source": [
    "writeExcelData(H8,excelfile,'Results',20,2)\n",
    "writeExcelData(H7,excelfile,'Results',53,2)\n",
    "print(\"Written Hp, Hn\")"
   ]
  },
  {
   "cell_type": "code",
   "execution_count": 109,
   "metadata": {},
   "outputs": [],
   "source": [
    "[resultlabelHp, resultprobHp]=Apply2DHistogramClassifier(PP[0:1,:],H8,H7,xmin,xmax)"
   ]
  },
  {
   "cell_type": "code",
   "execution_count": 110,
   "metadata": {},
   "outputs": [],
   "source": [
    "[resultlabelHn, resultprobHn]=Apply2DHistogramClassifier(PN[0:1,:],H8,H7,xmin,xmax)"
   ]
  },
  {
   "cell_type": "code",
   "execution_count": 111,
   "metadata": {},
   "outputs": [
    {
     "name": "stdout",
     "output_type": "stream",
     "text": [
      "   0  1\n",
      "0  8  1\n"
     ]
    }
   ],
   "source": [
    "print(DataFrame([resultlabelHp, resultprobHp]).T)"
   ]
  },
  {
   "cell_type": "code",
   "execution_count": 112,
   "metadata": {},
   "outputs": [
    {
     "name": "stdout",
     "output_type": "stream",
     "text": [
      "   0  1\n",
      "0  7  1\n"
     ]
    }
   ],
   "source": [
    "print(DataFrame([resultlabelHn, resultprobHn]).T)"
   ]
  },
  {
   "cell_type": "markdown",
   "metadata": {},
   "source": [
    "### Baysian Classifier"
   ]
  },
  {
   "cell_type": "code",
   "execution_count": 113,
   "metadata": {},
   "outputs": [],
   "source": [
    "def Build2DBayesianClassifer(X,T):\n",
    "    mu7=np.mean(X[T=='7'],axis=0)\n",
    "    mu8=np.mean(X[T=='8'],axis=0)\n",
    "    sigma7=np.cov(X[T=='7'],rowvar=False)\n",
    "    sigma8=np.cov(X[T=='8'],rowvar=False)\n",
    "    N7=len(T[T=='7'])\n",
    "    N8=len(T[T=='8'])\n",
    "    return[mu8,mu7,sigma8,sigma7,N8,N7]"
   ]
  },
  {
   "cell_type": "code",
   "execution_count": 114,
   "metadata": {},
   "outputs": [],
   "source": [
    "def pdf(x,mu,sigma):\n",
    "    d=np.alen(mu)\n",
    "    dfact1=(2*np.pi)**d\n",
    "    dfact2=np.linalg.det(sigma)\n",
    "    fact=1/np.sqrt(dfact1*dfact2)\n",
    "    xc=x-mu\n",
    "    isigma=np.linalg.inv(sigma)\n",
    "    return fact*np.exp(-0.5*np.einsum('ij,jk,ik->i',xc,isigma,xc))"
   ]
  },
  {
   "cell_type": "code",
   "execution_count": 141,
   "metadata": {},
   "outputs": [],
   "source": [
    "def Apply2DBayesianClassifer(queries,mu8,mu7,sigma8,sigma7,N8,N7):\n",
    "    A=1\n",
    "    count7=N7*A*pdf(queries,mu7,sigma7)\n",
    "    count8=N8*A*pdf(queries,mu8,sigma8)\n",
    "    resultlabel=np.full(np.alen(queries),\"Indeterminate\",dtype=object);\n",
    "    resultprob=np.full(np.alen(queries),np.nan,dtype=object);\n",
    "    indices7=count7>count8;\n",
    "    indices8=count8>count7;\n",
    "    resultlabel[indices7]=\"7\";\n",
    "    resultlabel[indices8]=\"8\";\n",
    "    prob7=count7/(count7+count8);\n",
    "    prob8=count8/(count7+count8);\n",
    "    resultprob[indices7]=prob7[indices7];\n",
    "    resultprob[indices8]=prob8[indices8];\n",
    "    return resultlabel, resultprob"
   ]
  },
  {
   "cell_type": "code",
   "execution_count": 142,
   "metadata": {},
   "outputs": [],
   "source": [
    "P21m=np.mean(P21,axis=0)\n",
    "P22m=np.mean(P22,axis=0)\n",
    "P2min=np.amin(P2,axis=0)\n",
    "P2max=np.amax(P2,axis=0)\n",
    "P21cov = np.cov(P21,rowvar=False)\n",
    "P22cov = np.cov(P22,rowvar=False)"
   ]
  },
  {
   "cell_type": "code",
   "execution_count": 143,
   "metadata": {},
   "outputs": [
    {
     "name": "stdout",
     "output_type": "stream",
     "text": [
      "Written p1min, p1max, p2min, p2max\n"
     ]
    }
   ],
   "source": [
    "writeExcelData([P2min],excelfile,'Results',17,2)\n",
    "writeExcelData([P2max],excelfile,'Results',18,2)\n",
    "print(\"Written p1min, p1max, p2min, p2max\")"
   ]
  },
  {
   "cell_type": "code",
   "execution_count": 144,
   "metadata": {},
   "outputs": [
    {
     "name": "stdout",
     "output_type": "stream",
     "text": [
      "Written cp, cn\n"
     ]
    }
   ],
   "source": [
    "writeExcelData(P21cov,excelfile,'Results',12,2)\n",
    "writeExcelData(P22cov,excelfile,'Results',14,2)\n",
    "print(\"Written cp, cn\")"
   ]
  },
  {
   "cell_type": "code",
   "execution_count": 149,
   "metadata": {},
   "outputs": [],
   "source": [
    "[resultlabelBp, resultprobBp]=Apply2DBayesianClassifer(PP[0:20,:],P21m,P22m,P21cov,P22cov,5851,6265)"
   ]
  },
  {
   "cell_type": "code",
   "execution_count": 150,
   "metadata": {},
   "outputs": [],
   "source": [
    "[resultlabelBn, resultprobBn]=Apply2DBayesianClassifer(PN[0:20,:],P21m,P22m,P21cov,P22cov,5851,6265)"
   ]
  },
  {
   "cell_type": "code",
   "execution_count": 151,
   "metadata": {},
   "outputs": [
    {
     "name": "stdout",
     "output_type": "stream",
     "text": [
      "    0         1\n",
      "0   8  0.997342\n",
      "1   8  0.999249\n",
      "2   8  0.999981\n",
      "3   8  0.999997\n",
      "4   8  0.999969\n",
      "5   8  0.999923\n",
      "6   8  0.999934\n",
      "7   8         1\n",
      "8   8  0.999999\n",
      "9   8  0.999887\n",
      "10  8   0.99936\n",
      "11  8         1\n",
      "12  7  0.978632\n",
      "13  8  0.998805\n",
      "14  8  0.999762\n",
      "15  8  0.998011\n",
      "16  8  0.999999\n",
      "17  8  0.999934\n",
      "18  8  0.997253\n",
      "19  8  0.981921\n"
     ]
    }
   ],
   "source": [
    "print(DataFrame([resultlabelBp, resultprobBp]).T)"
   ]
  },
  {
   "cell_type": "code",
   "execution_count": 152,
   "metadata": {},
   "outputs": [
    {
     "name": "stdout",
     "output_type": "stream",
     "text": [
      "    0         1\n",
      "0   7  0.999999\n",
      "1   7  0.999998\n",
      "2   7  0.999973\n",
      "3   7  0.974336\n",
      "4   7  0.999977\n",
      "5   7  0.999955\n",
      "6   7   0.99996\n",
      "7   7  0.989479\n",
      "8   7  0.999999\n",
      "9   7  0.997732\n",
      "10  7  0.999887\n",
      "11  7  0.999655\n",
      "12  7  0.999977\n",
      "13  7  0.999842\n",
      "14  7  0.555854\n",
      "15  8  0.546614\n",
      "16  7  0.982865\n",
      "17  7  0.999308\n",
      "18  7  0.996808\n",
      "19  7  0.981437\n"
     ]
    }
   ],
   "source": [
    "print(DataFrame([resultlabelBn, resultprobBn]).T)"
   ]
  },
  {
   "cell_type": "code",
   "execution_count": 123,
   "metadata": {},
   "outputs": [],
   "source": [
    "PP_test=PP[0:20,:]\n",
    "PN_test=PN[0:20,:]"
   ]
  },
  {
   "cell_type": "code",
   "execution_count": 124,
   "metadata": {},
   "outputs": [],
   "source": [
    "[resultlabelHp1, resultprobHp1]=Apply2DHistogramClassifier(PP_test,H7,H8,xmin,xmax)\n",
    "[resultlabelHn1, resultprobHn1]=Apply2DHistogramClassifier(PN_test,H7,H8,xmin,xmax)"
   ]
  },
  {
   "cell_type": "code",
   "execution_count": 125,
   "metadata": {},
   "outputs": [
    {
     "name": "stdout",
     "output_type": "stream",
     "text": [
      "    0         1\n",
      "0   7         1\n",
      "1   7         1\n",
      "2   7         1\n",
      "3   7         1\n",
      "4   7         1\n",
      "5   7         1\n",
      "6   7         1\n",
      "7   7         1\n",
      "8   7         1\n",
      "9   7         1\n",
      "10  7         1\n",
      "11  7         1\n",
      "12  8  0.769231\n",
      "13  7         1\n",
      "14  7         1\n",
      "15  7  0.969697\n",
      "16  7         1\n",
      "17  7         1\n",
      "18  7         1\n",
      "19  7         1\n",
      "    0         1\n",
      "0   8         1\n",
      "1   8         1\n",
      "2   8         1\n",
      "3   8         1\n",
      "4   8         1\n",
      "5   8         1\n",
      "6   8         1\n",
      "7   8         1\n",
      "8   8         1\n",
      "9   8         1\n",
      "10  8         1\n",
      "11  8         1\n",
      "12  8         1\n",
      "13  8         1\n",
      "14  8  0.666667\n",
      "15  7  0.615385\n",
      "16  8         1\n",
      "17  8         1\n",
      "18  8         1\n",
      "19  8  0.769231\n"
     ]
    }
   ],
   "source": [
    "print(DataFrame([resultlabelHp1, resultprobHp1]).T)\n",
    "print(DataFrame([resultlabelHn1, resultprobHn1]).T)"
   ]
  },
  {
   "cell_type": "code",
   "execution_count": 140,
   "metadata": {},
   "outputs": [
    {
     "data": {
      "image/png": "[encoded data removed]",
      "text/plain": [
       "<Figure size 432x288 with 1 Axes>"
      ]
     },
     "metadata": {
      "needs_background": "light"
     },
     "output_type": "display_data"
    }
   ],
   "source": [
    "plt.scatter(PP[0:974,:],PN[0:974,:],2,c=['red','green'])\n",
    "plt.show()"
   ]
  },
  {
   "cell_type": "code",
   "execution_count": null,
   "metadata": {},
   "outputs": [],
   "source": []
  }
 ],
 "metadata": {
  "kernelspec": {
   "display_name": "Python 3",
   "language": "python",
   "name": "python3"
  },
  "language_info": {
   "codemirror_mode": {
    "name": "ipython",
    "version": 3
   },
   "file_extension": ".py",
   "mimetype": "text/x-python",
   "name": "python",
   "nbconvert_exporter": "python",
   "pygments_lexer": "ipython3",
   "version": "3.7.2"
  }
 },
 "nbformat": 4,
 "nbformat_minor": 2
}
