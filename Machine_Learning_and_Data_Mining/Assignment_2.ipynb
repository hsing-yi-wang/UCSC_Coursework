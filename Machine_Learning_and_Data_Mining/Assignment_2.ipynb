{
 "cells": [
  {
   "cell_type": "code",
   "execution_count": 1,
   "metadata": {},
   "outputs": [],
   "source": [
    "import numpy as np\n",
    "import matplotlib.pyplot as plt\n",
    "import pandas as pd\n",
    "from pandas import DataFrame\n",
    "import math"
   ]
  },
  {
   "cell_type": "markdown",
   "metadata": {},
   "source": [
    "## Function Definitions"
   ]
  },
  {
   "cell_type": "code",
   "execution_count": 2,
   "metadata": {},
   "outputs": [],
   "source": [
    "def readExcelSheet1(excelfile):\n",
    "    from pandas import read_excel\n",
    "    return (read_excel(excelfile)).values"
   ]
  },
  {
   "cell_type": "code",
   "execution_count": 3,
   "metadata": {},
   "outputs": [],
   "source": [
    "def readExcelRange(excelfile,sheetname=\"Sheet1\",startrow=1,endrow=1,startcol=1,endcol=1):\n",
    "    from pandas import read_excel\n",
    "    values=(read_excel(excelfile, sheetname,header=None)).values;\n",
    "    return values[startrow-1:endrow,startcol-1:endcol]"
   ]
  },
  {
   "cell_type": "code",
   "execution_count": 4,
   "metadata": {},
   "outputs": [],
   "source": [
    "def readExcel(excelfile,**args):\n",
    "    if args:\n",
    "        data=readExcelRange(excelfile,**args)\n",
    "    else:\n",
    "        data=readExcelSheet1(excelfile)\n",
    "    if data.shape==(1,1):\n",
    "        return data[0,0]\n",
    "    elif (data.shape)[0]==1:\n",
    "        return data[0]\n",
    "    else:\n",
    "        return data"
   ]
  },
  {
   "cell_type": "code",
   "execution_count": 5,
   "metadata": {},
   "outputs": [],
   "source": [
    "def writeExcelData(x,excelfile,sheetname,startrow,startcol):\n",
    "    from pandas import DataFrame, ExcelWriter\n",
    "    from openpyxl import load_workbook\n",
    "    df=DataFrame(x)\n",
    "    book = load_workbook(excelfile)\n",
    "    writer = ExcelWriter(excelfile, engine='openpyxl') \n",
    "    writer.book = book\n",
    "    writer.sheets = dict((ws.title, ws) for ws in book.worksheets)\n",
    "    df.to_excel(writer, sheet_name=sheetname,startrow=startrow-1, startcol=startcol-1, header=False, index=False)\n",
    "    writer.save()\n",
    "    writer.close()"
   ]
  },
  {
   "cell_type": "code",
   "execution_count": 6,
   "metadata": {},
   "outputs": [],
   "source": [
    "def getSheetNames(excelfile):\n",
    "    from pandas import ExcelFile\n",
    "    return (ExcelFile(excelfile)).sheet_names"
   ]
  },
  {
   "cell_type": "markdown",
   "metadata": {},
   "source": [
    "## Prepare Data"
   ]
  },
  {
   "cell_type": "code",
   "execution_count": 10,
   "metadata": {},
   "outputs": [],
   "source": [
    "excelfile='/Users/eve7947/Downloads/Resubmit_Hsing-Yi-Wang_Assignment_2_Data_and_Template_0221.xlsx'"
   ]
  },
  {
   "cell_type": "code",
   "execution_count": 11,
   "metadata": {},
   "outputs": [
    {
     "data": {
      "text/plain": [
       "['Data',\n",
       " 'Female Histogram',\n",
       " 'Male Histogram',\n",
       " 'Bayesian',\n",
       " 'Queries',\n",
       " 'Reconstructed Female Histogram',\n",
       " 'Reconstructed Male Histogram',\n",
       " 'Observations',\n",
       " 'ID']"
      ]
     },
     "execution_count": 11,
     "metadata": {},
     "output_type": "execute_result"
    }
   ],
   "source": [
    "sheets=getSheetNames(excelfile);\n",
    "sheets"
   ]
  },
  {
   "cell_type": "code",
   "execution_count": 57,
   "metadata": {},
   "outputs": [],
   "source": [
    "data=readExcel(excelfile)\n",
    "X=np.array(data[:,1:3],dtype=float)\n",
    "T=np.array([str(g) for g in data[:,0]])"
   ]
  },
  {
   "cell_type": "markdown",
   "metadata": {},
   "source": [
    "## Histogram Classifier"
   ]
  },
  {
   "cell_type": "code",
   "execution_count": 47,
   "metadata": {},
   "outputs": [],
   "source": [
    "def Build2DHistogramClassifier(X,T,B,xmin,xmax):\n",
    "    HF=np.zeros((B,B)).astype('int32');\n",
    "    HM=np.zeros((B,B)).astype('int32');\n",
    "    binindices=(np.round(((B-1)*(X-xmin)/(xmax-xmin)))).astype('int32');\n",
    "    for i,r in enumerate(binindices):\n",
    "        if T[i]=='Female':\n",
    "            HF[r[0],r[1]]+=1;\n",
    "        else:\n",
    "            HM[r[0],r[1]]+=1;\n",
    "    return [HF, HM]"
   ]
  },
  {
   "cell_type": "code",
   "execution_count": 48,
   "metadata": {},
   "outputs": [],
   "source": [
    "def Apply2DHistogramClassifier(queries,HF,HM,xmin,xmax):\n",
    "    B=np.alen(HF);\n",
    "    binindices=(np.round(((B-1)*(queries-xmin)/(xmax-xmin)))).astype('int32');\n",
    "    countF=HF[binindices[:,0],binindices[:,1]];\n",
    "    countM=HM[binindices[:,0],binindices[:,1]];\n",
    "    resultlabel=np.full(np.alen(queries),\"Indeterminate\",dtype=object);\n",
    "    resultprob=np.full(np.alen(queries),np.nan,dtype=object);\n",
    "    indicesF=countF>countM;\n",
    "    indicesM=countM>countF;\n",
    "    resultlabel[indicesF]=\"F\";\n",
    "    resultlabel[indicesM]=\"M\";\n",
    "    probF=countF/(countF+countM);\n",
    "    probM=countM/(countF+countM);\n",
    "    resultprob[indicesF]=probF[indicesF];\n",
    "    resultprob[indicesM]=probM[indicesM];\n",
    "    return resultlabel, resultprob"
   ]
  },
  {
   "cell_type": "code",
   "execution_count": 49,
   "metadata": {},
   "outputs": [
    {
     "data": {
      "text/plain": [
       "array([[69. , 17.5],\n",
       "       [66. , 22. ],\n",
       "       [70. , 21.5],\n",
       "       [69. , 23.5]])"
      ]
     },
     "execution_count": 49,
     "metadata": {},
     "output_type": "execute_result"
    }
   ],
   "source": [
    "queries=(readExcel(excelfile,\n",
    "                  sheetname='Queries',\n",
    "                  startrow=3,\n",
    "                  endrow=6,\n",
    "                  startcol=1,\n",
    "                  endcol=2)).astype(float)\n",
    "queries"
   ]
  },
  {
   "cell_type": "code",
   "execution_count": 54,
   "metadata": {},
   "outputs": [],
   "source": [
    "B=7\n",
    "xmin=np.amin(X,axis=0)\n",
    "xmax=np.amax(X,axis=0)\n",
    "[HF, HM] = Build2DHistogramClassifier(X,T,B,xmin,xmax)"
   ]
  },
  {
   "cell_type": "code",
   "execution_count": 55,
   "metadata": {},
   "outputs": [],
   "source": [
    "[resultlabel, resultprob]=Apply2DHistogramClassifier(queries,HF,HM,xmin,xmax)"
   ]
  },
  {
   "cell_type": "code",
   "execution_count": 56,
   "metadata": {},
   "outputs": [
    {
     "name": "stdout",
     "output_type": "stream",
     "text": [
      "               0         1\n",
      "0  Indeterminate       NaN\n",
      "1              M  0.846154\n",
      "2              M  0.833333\n",
      "3              M         1\n"
     ]
    }
   ],
   "source": [
    "print(DataFrame([resultlabel, resultprob]).T)"
   ]
  },
  {
   "cell_type": "markdown",
   "metadata": {},
   "source": [
    "## Bayesian classifier"
   ]
  },
  {
   "cell_type": "code",
   "execution_count": 25,
   "metadata": {},
   "outputs": [],
   "source": [
    "def Build2DBayesianClassifer(X,T):\n",
    "    muF=np.mean(X[T=='Female'],axis=0)\n",
    "    muM=np.mean(X[T=='Male'],axis=0)\n",
    "    sigmaF=np.cov(X[T=='Female'],rowvar=False)\n",
    "    sigmaM=np.cov(X[T=='Male'],rowvar=False)\n",
    "    NF=len(T[T=='Female'])\n",
    "    NM=len(T[T=='Male'])\n",
    "    return[muF,muM,sigmaF,sigmaM,NF,NM]"
   ]
  },
  {
   "cell_type": "code",
   "execution_count": 31,
   "metadata": {},
   "outputs": [],
   "source": [
    "[muF,muM,sigmaF,sigmaM,NF,NM] = Build2DBayesianClassifer(X,T)"
   ]
  },
  {
   "cell_type": "code",
   "execution_count": 32,
   "metadata": {},
   "outputs": [
    {
     "name": "stdout",
     "output_type": "stream",
     "text": [
      "[65.25280899 19.6011236 ] [71.28846154 22.30128205] [[7.75780452 1.65170135]\n",
      " [1.65170135 1.75670327]] [[7.08778721 1.80157343]\n",
      " [1.80157343 2.06064769]] 89 78\n"
     ]
    }
   ],
   "source": [
    "print(muF,muM,sigmaF,sigmaM,NF,NM)"
   ]
  },
  {
   "cell_type": "code",
   "execution_count": 33,
   "metadata": {},
   "outputs": [],
   "source": [
    "def pdf(x,mu,sigma):\n",
    "    d=np.alen(mu)\n",
    "    dfact1=(2*np.pi)**d\n",
    "    dfact2=np.linalg.det(sigma)\n",
    "    fact=1/np.sqrt(dfact1*dfact2)\n",
    "    xc=x-mu\n",
    "    isigma=np.linalg.inv(sigma)\n",
    "    return fact*np.exp(-0.5*np.einsum('ij,jk,ik->i',xc,isigma,xc))"
   ]
  },
  {
   "cell_type": "code",
   "execution_count": 39,
   "metadata": {},
   "outputs": [],
   "source": [
    "def Apply2DBayesianClassifer(queries,muF,muM,sigmaF,sigmaM,NF,NM):\n",
    "    A=1\n",
    "    countF=NF*A*pdf(queries,muF,sigmaF)\n",
    "    countM=NM*A*pdf(queries,muM,sigmaM)\n",
    "    resultlabel=np.full(np.alen(queries),\"Indeterminate\",dtype=object);\n",
    "    resultprob=np.full(np.alen(queries),np.nan,dtype=object);\n",
    "    indicesF=countF>countM;\n",
    "    indicesM=countM>countF;\n",
    "    resultlabel[indicesF]=\"F\";\n",
    "    resultlabel[indicesM]=\"M\";\n",
    "    probF=countF/(countF+countM);\n",
    "    probM=countM/(countF+countM);\n",
    "    resultprob[indicesF]=probF[indicesF];\n",
    "    resultprob[indicesM]=probM[indicesM];\n",
    "    return resultlabel, resultprob"
   ]
  },
  {
   "cell_type": "code",
   "execution_count": 44,
   "metadata": {},
   "outputs": [
    {
     "data": {
      "text/plain": [
       "array([[69. , 17.5],\n",
       "       [66. , 22. ],\n",
       "       [70. , 21.5],\n",
       "       [69. , 23.5]])"
      ]
     },
     "execution_count": 44,
     "metadata": {},
     "output_type": "execute_result"
    }
   ],
   "source": [
    "queries=(readExcel(excelfile,\n",
    "                  sheetname='Queries',\n",
    "                  startrow=3,\n",
    "                  endrow=6,\n",
    "                  startcol=1,\n",
    "                  endcol=2)).astype(float)\n",
    "queries"
   ]
  },
  {
   "cell_type": "code",
   "execution_count": 45,
   "metadata": {},
   "outputs": [],
   "source": [
    "[resultlabel, resultprob]=Apply2DBayesianClassifer(queries,muF,muM,sigmaF,sigmaM,NF,NM)"
   ]
  },
  {
   "cell_type": "code",
   "execution_count": 46,
   "metadata": {},
   "outputs": [
    {
     "name": "stdout",
     "output_type": "stream",
     "text": [
      "   0         1\n",
      "0  F  0.898536\n",
      "1  F  0.655579\n",
      "2  M  0.801143\n",
      "3  M  0.943548\n"
     ]
    }
   ],
   "source": [
    "print(DataFrame([resultlabel, resultprob]).T)"
   ]
  }
 ],
 "metadata": {
  "kernelspec": {
   "display_name": "Python 3",
   "language": "python",
   "name": "python3"
  },
  "language_info": {
   "codemirror_mode": {
    "name": "ipython",
    "version": 3
   },
   "file_extension": ".py",
   "mimetype": "text/x-python",
   "name": "python",
   "nbconvert_exporter": "python",
   "pygments_lexer": "ipython3",
   "version": "3.7.2"
  }
 },
 "nbformat": 4,
 "nbformat_minor": 2
}
