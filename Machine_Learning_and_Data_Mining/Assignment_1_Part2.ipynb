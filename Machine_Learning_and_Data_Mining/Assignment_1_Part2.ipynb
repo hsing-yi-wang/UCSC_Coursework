{
 "cells": [
  {
   "cell_type": "code",
   "execution_count": 1,
   "metadata": {},
   "outputs": [],
   "source": [
    "import numpy as np\n",
    "import matplotlib.pyplot as plt\n",
    "import pandas as pd\n",
    "from pandas import DataFrame\n",
    "import math"
   ]
  },
  {
   "cell_type": "markdown",
   "metadata": {},
   "source": [
    "## Function Definitions"
   ]
  },
  {
   "cell_type": "code",
   "execution_count": 2,
   "metadata": {},
   "outputs": [],
   "source": [
    "def readExcelSheet1(excelfile):\n",
    "    from pandas import read_excel\n",
    "    return (read_excel(excelfile)).values"
   ]
  },
  {
   "cell_type": "code",
   "execution_count": 3,
   "metadata": {},
   "outputs": [],
   "source": [
    "def readExcelRange(excelfile,sheetname=\"Sheet1\",startrow=1,endrow=1,startcol=1,endcol=1):\n",
    "    from pandas import read_excel\n",
    "    values=(read_excel(excelfile, sheetname,header=None)).values;\n",
    "    return values[startrow-1:endrow,startcol-1:endcol]"
   ]
  },
  {
   "cell_type": "code",
   "execution_count": 4,
   "metadata": {},
   "outputs": [],
   "source": [
    "def readExcel(excelfile,**args):\n",
    "    if args:\n",
    "        data=readExcelRange(excelfile,**args)\n",
    "    else:\n",
    "        data=readExcelSheet1(excelfile)\n",
    "    if data.shape==(1,1):\n",
    "        return data[0,0]\n",
    "    elif (data.shape)[0]==1:\n",
    "        return data[0]\n",
    "    else:\n",
    "        return data"
   ]
  },
  {
   "cell_type": "code",
   "execution_count": 5,
   "metadata": {},
   "outputs": [],
   "source": [
    "def writeExcelData(x,excelfile,sheetname,startrow,startcol):\n",
    "    from pandas import DataFrame, ExcelWriter\n",
    "    from openpyxl import load_workbook\n",
    "    df=DataFrame(x)\n",
    "    book = load_workbook(excelfile)\n",
    "    writer = ExcelWriter(excelfile, engine='openpyxl') \n",
    "    writer.book = book\n",
    "    writer.sheets = dict((ws.title, ws) for ws in book.worksheets)\n",
    "    df.to_excel(writer, sheet_name=sheetname,startrow=startrow-1, startcol=startcol-1, header=False, index=False)\n",
    "    writer.save()\n",
    "    writer.close()"
   ]
  },
  {
   "cell_type": "code",
   "execution_count": 6,
   "metadata": {},
   "outputs": [],
   "source": [
    "def getSheetNames(excelfile):\n",
    "    from pandas import ExcelFile\n",
    "    return (ExcelFile(excelfile)).sheet_names\n"
   ]
  },
  {
   "cell_type": "code",
   "execution_count": 7,
   "metadata": {},
   "outputs": [],
   "source": [
    "def Build1DHistogramClassifier(X,T,B,xmin,xmax):\n",
    "    HF=np.zeros(B).astype('int32');\n",
    "    HM=np.zeros(B).astype('int32');\n",
    "    binindices=(np.round(((B-1)*(X-xmin)/(xmax-xmin)))).astype('int32');\n",
    "    for i,b in enumerate(binindices):\n",
    "        if T[i]=='Female':\n",
    "            HF[b]+=1;\n",
    "        else:\n",
    "            HM[b]+=1;\n",
    "    return [HF, HM]"
   ]
  },
  {
   "cell_type": "code",
   "execution_count": 8,
   "metadata": {},
   "outputs": [],
   "source": [
    "def Apply1DHistogramClassifier(queries,HF,HM,xmin,xmax):\n",
    "    B=np.alen(HF);\n",
    "    binindices=np.clip((np.round(((B-1)*(queries-xmin)/(xmax-xmin)))).astype('int32'),0,B-1);\n",
    "    countF=HF[binindices];\n",
    "    countM=HM[binindices];\n",
    "    resultlabel=np.full(np.alen(binindices),\"Indeterminate\",dtype=object);\n",
    "    resultprob=np.full(np.alen(binindices),np.nan,dtype=object);\n",
    "    indicesF=countF>countM;\n",
    "    indicesM=countM>countF;\n",
    "    resultlabel[indicesF]=\"Female\";\n",
    "    resultlabel[indicesM]=\"Male\";\n",
    "    probF=countF/(countF+countM);\n",
    "    probM=countM/(countF+countM);\n",
    "    resultprob[indicesF]=probF[indicesF];\n",
    "    resultprob[indicesM]=probM[indicesM];\n",
    "    return resultlabel, resultprob"
   ]
  },
  {
   "cell_type": "code",
   "execution_count": 9,
   "metadata": {},
   "outputs": [],
   "source": [
    "def BuildBayesianClassifer(x,mean,stdev):\n",
    "    exponent = math.exp(-(math.pow(x-mean,2)/(2*math.pow(stdev,2))))\n",
    "    return (1/(math.sqrt(2*math.pi)*stdev))*exponent"
   ]
  },
  {
   "cell_type": "markdown",
   "metadata": {},
   "source": [
    "## Prepare data"
   ]
  },
  {
   "cell_type": "code",
   "execution_count": 10,
   "metadata": {},
   "outputs": [],
   "source": [
    "excelfile='/Users/eve7947/Downloads/Assignment_1_Data_and_Template.xlsx'"
   ]
  },
  {
   "cell_type": "code",
   "execution_count": 11,
   "metadata": {},
   "outputs": [
    {
     "data": {
      "text/plain": [
       "['Data',\n",
       " 'Classifiers - Full Data',\n",
       " 'Classifiers - Partial Data',\n",
       " 'Queries',\n",
       " 'Observations',\n",
       " 'ID']"
      ]
     },
     "execution_count": 11,
     "metadata": {},
     "output_type": "execute_result"
    }
   ],
   "source": [
    "sheets=getSheetNames(excelfile);\n",
    "sheets"
   ]
  },
  {
   "cell_type": "code",
   "execution_count": 12,
   "metadata": {},
   "outputs": [],
   "source": [
    "data=readExcel(excelfile)\n",
    "X=np.array(data[:50,0]*12+data[:50,1],dtype=float)\n",
    "T=np.array([str(g) for g in data[:,2]])"
   ]
  },
  {
   "cell_type": "code",
   "execution_count": 13,
   "metadata": {},
   "outputs": [
    {
     "data": {
      "text/plain": [
       "array([55., 60., 65., 70., 75., 80.])"
      ]
     },
     "execution_count": 13,
     "metadata": {},
     "output_type": "execute_result"
    }
   ],
   "source": [
    "queries=(readExcel(excelfile,\n",
    "                  sheetname='Classifiers - Partial Data',\n",
    "                  startrow=17,\n",
    "                  endrow=17,\n",
    "                  startcol=2,\n",
    "                  endcol=7)).astype(float)\n",
    "queries"
   ]
  },
  {
   "cell_type": "markdown",
   "metadata": {},
   "source": [
    "## Historgram Classifier"
   ]
  },
  {
   "cell_type": "code",
   "execution_count": 14,
   "metadata": {},
   "outputs": [],
   "source": [
    "B=32;\n",
    "xmin=52.0;\n",
    "xmax=83.0;\n",
    "[HF,HM]=Build1DHistogramClassifier(X,T,B,xmin,xmax);\n"
   ]
  },
  {
   "cell_type": "code",
   "execution_count": 15,
   "metadata": {},
   "outputs": [
    {
     "name": "stdout",
     "output_type": "stream",
     "text": [
      "[0 0 0 1 1 0 1 1 0 1 4 2 4 3 3 1 1 4 0 1 0 0 0 0 0 0 0 0 0 0 0 0]\n"
     ]
    }
   ],
   "source": [
    "print(HF)"
   ]
  },
  {
   "cell_type": "code",
   "execution_count": 16,
   "metadata": {},
   "outputs": [
    {
     "name": "stdout",
     "output_type": "stream",
     "text": [
      "[0 0 0 0 0 0 0 0 0 0 0 0 0 0 2 1 0 2 3 3 2 1 4 1 2 0 0 0 1 0 0 0]\n"
     ]
    }
   ],
   "source": [
    "print(HM)"
   ]
  },
  {
   "cell_type": "code",
   "execution_count": 17,
   "metadata": {},
   "outputs": [
    {
     "data": {
      "image/png": "[encoded data removed]",
      "text/plain": [
       "<Figure size 720x360 with 1 Axes>"
      ]
     },
     "metadata": {
      "needs_background": "light"
     },
     "output_type": "display_data"
    }
   ],
   "source": [
    "plt.figure(figsize=(10,5));\n",
    "opacity = 0.5\n",
    "[bincenters,binwidth]=np.linspace(xmin, xmax, num=B, retstep=True);\n",
    "rects1 = plt.bar(bincenters-(binwidth/2), HF, binwidth,\n",
    "                 alpha=opacity,\n",
    "                 color='pink',\n",
    "                 edgecolor='black',\n",
    "                 label='Female')\n",
    "rects2 = plt.bar(bincenters+(binwidth/2), HM, binwidth,\n",
    "                 alpha=opacity,\n",
    "                 color='b',\n",
    "                 edgecolor='black',\n",
    "                 label='Male')\n",
    "plt.xlabel('Height')\n",
    "plt.ylabel('Count')\n",
    "plt.xticks(bincenters, bincenters.astype('int32'), fontsize=10)\n",
    "plt.legend()\n",
    "plt.show()"
   ]
  },
  {
   "cell_type": "code",
   "execution_count": 18,
   "metadata": {},
   "outputs": [
    {
     "name": "stderr",
     "output_type": "stream",
     "text": [
      "/Users/eve7947/anaconda3/lib/python3.7/site-packages/ipykernel_launcher.py:12: RuntimeWarning: invalid value encountered in true_divide\n",
      "  if sys.path[0] == '':\n",
      "/Users/eve7947/anaconda3/lib/python3.7/site-packages/ipykernel_launcher.py:13: RuntimeWarning: invalid value encountered in true_divide\n",
      "  del sys.path[0]\n"
     ]
    }
   ],
   "source": [
    "[resultHlabel, resultHprob]=Apply1DHistogramClassifier(queries,HF,HM,xmin,xmax)"
   ]
  },
  {
   "cell_type": "code",
   "execution_count": 19,
   "metadata": {},
   "outputs": [
    {
     "name": "stdout",
     "output_type": "stream",
     "text": [
      "               0    1\n",
      "0         Female    1\n",
      "1  Indeterminate  NaN\n",
      "2         Female    1\n",
      "3           Male    1\n",
      "4           Male    1\n",
      "5           Male    1\n"
     ]
    }
   ],
   "source": [
    "print(DataFrame([resultHlabel, resultHprob]).T)\n",
    "# The result produced upon executing the above statement is not shown in this document"
   ]
  },
  {
   "cell_type": "markdown",
   "metadata": {},
   "source": [
    "## Bayesian classifier"
   ]
  },
  {
   "cell_type": "code",
   "execution_count": 20,
   "metadata": {},
   "outputs": [],
   "source": [
    "df = pd.DataFrame(data[:50,:], columns=['Height_Fight','Height_Inch','Gender'])"
   ]
  },
  {
   "cell_type": "code",
   "execution_count": 21,
   "metadata": {},
   "outputs": [
    {
     "data": {
      "text/plain": [
       "Index(['Height_Fight', 'Height_Inch', 'Gender'], dtype='object')"
      ]
     },
     "execution_count": 21,
     "metadata": {},
     "output_type": "execute_result"
    }
   ],
   "source": [
    "df.columns"
   ]
  },
  {
   "cell_type": "code",
   "execution_count": 22,
   "metadata": {},
   "outputs": [
    {
     "name": "stderr",
     "output_type": "stream",
     "text": [
      "/Users/eve7947/anaconda3/lib/python3.7/site-packages/ipykernel_launcher.py:3: SettingWithCopyWarning: \n",
      "A value is trying to be set on a copy of a slice from a DataFrame.\n",
      "Try using .loc[row_indexer,col_indexer] = value instead\n",
      "\n",
      "See the caveats in the documentation: http://pandas.pydata.org/pandas-docs/stable/indexing.html#indexing-view-versus-copy\n",
      "  This is separate from the ipykernel package so we can avoid doing imports until\n",
      "/Users/eve7947/anaconda3/lib/python3.7/site-packages/ipykernel_launcher.py:4: SettingWithCopyWarning: \n",
      "A value is trying to be set on a copy of a slice from a DataFrame.\n",
      "Try using .loc[row_indexer,col_indexer] = value instead\n",
      "\n",
      "See the caveats in the documentation: http://pandas.pydata.org/pandas-docs/stable/indexing.html#indexing-view-versus-copy\n",
      "  after removing the cwd from sys.path.\n"
     ]
    }
   ],
   "source": [
    "female=df[df.Gender=='Female']\n",
    "male=df[df.Gender=='Male']\n",
    "female['Height']=female.Height_Fight*12+female.Height_Inch\n",
    "male['Height']=male.Height_Fight*12+male.Height_Inch\n",
    "fh = female['Height']\n",
    "mh = male['Height']\n"
   ]
  },
  {
   "cell_type": "code",
   "execution_count": 23,
   "metadata": {},
   "outputs": [
    {
     "name": "stdout",
     "output_type": "stream",
     "text": [
      "64.07142857142857\n",
      "71.81818181818181\n"
     ]
    }
   ],
   "source": [
    "fmean = np.mean(fh)\n",
    "mmean = np.mean(mh)\n",
    "print(np.mean(fh))\n",
    "print(np.mean(mh))\n"
   ]
  },
  {
   "cell_type": "code",
   "execution_count": 24,
   "metadata": {},
   "outputs": [
    {
     "name": "stdout",
     "output_type": "stream",
     "text": [
      "3.881536619769578\n",
      "3.379569144625656\n"
     ]
    }
   ],
   "source": [
    "fstd = np.std(fh)\n",
    "mstd = np.std(mh)\n",
    "print(np.std(fh))\n",
    "print(np.std(mh))"
   ]
  },
  {
   "cell_type": "code",
   "execution_count": 25,
   "metadata": {},
   "outputs": [
    {
     "name": "stdout",
     "output_type": "stream",
     "text": [
      "28\n",
      "22\n"
     ]
    }
   ],
   "source": [
    "NF = fh.count()\n",
    "NM = mh.count()\n",
    "print(fh.count())\n",
    "print(mh.count())"
   ]
  },
  {
   "cell_type": "code",
   "execution_count": 30,
   "metadata": {},
   "outputs": [
    {
     "name": "stdout",
     "output_type": "stream",
     "text": [
      "0.004555443018553719\n",
      "0.9954445569814462\n"
     ]
    }
   ],
   "source": [
    "FP = NF*BuildBayesianClassifer(80,fmean,fstd)\n",
    "MP = NM*BuildBayesianClassifer(80,mmean,mstd)\n",
    "F = FP/(FP + MP)\n",
    "print (F)\n",
    "M = MP/(FP + MP)\n",
    "print(M)"
   ]
  }
 ],
 "metadata": {
  "kernelspec": {
   "display_name": "Python 3",
   "language": "python",
   "name": "python3"
  },
  "language_info": {
   "codemirror_mode": {
    "name": "ipython",
    "version": 3
   },
   "file_extension": ".py",
   "mimetype": "text/x-python",
   "name": "python",
   "nbconvert_exporter": "python",
   "pygments_lexer": "ipython3",
   "version": "3.7.2"
  }
 },
 "nbformat": 4,
 "nbformat_minor": 2
}
