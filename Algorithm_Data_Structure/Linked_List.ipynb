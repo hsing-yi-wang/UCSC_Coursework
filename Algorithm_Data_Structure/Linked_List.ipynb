{
 "cells": [
  {
   "cell_type": "markdown",
   "metadata": {},
   "source": [
    "## Assignment 3"
   ]
  },
  {
   "cell_type": "markdown",
   "metadata": {},
   "source": [
    "### Hsing-Yi Wang"
   ]
  },
  {
   "cell_type": "markdown",
   "metadata": {},
   "source": [
    "#### Given a singly linked list with nodes with the following structure:\n",
    "##### Struct node_t {\n",
    "##### Struct node_t * next;\n",
    "##### Struct node_t next_highest;\n",
    "##### Int val;\n",
    "##### }\n",
    "#### Write a function that takes a single linked list of nodes with next_highest initially null and sets that pointer to point to the next node with the highest val following that node in the current list."
   ]
  },
  {
   "cell_type": "markdown",
   "metadata": {},
   "source": [
    "#### Time Complexity O(n^2) Space Complexity O(1)"
   ]
  },
  {
   "cell_type": "code",
   "execution_count": 1,
   "metadata": {},
   "outputs": [],
   "source": [
    "class ListNode:\n",
    "    def _init_(self, data):\n",
    "        self.val = data\n",
    "        self.next = None\n",
    "        return None\n",
    "\n",
    "class SingleLinkedList:\n",
    "    def _init_(self):\n",
    "        self.head = None\n",
    "        self.tail = None\n",
    "        return\n",
    "\n",
    "    def next_highest(self,head):\n",
    "        temp = self.head\n",
    "        if head is None:\n",
    "            return None\n",
    "        while temp != None:\n",
    "            if temp.val < temp.next.val:\n",
    "                head.next = temp.next\n",
    "                temp = temp.next\n",
    "            else:\n",
    "                temp = temp.next\n",
    "        return head\n",
    "        "
   ]
  },
  {
   "cell_type": "markdown",
   "metadata": {},
   "source": [
    "#### Repeat the problem above but now making the extra pointer point to next higher:\n",
    "#### Given a singly linked list with nodes with the following structure:\n",
    "##### Struct node_t {\n",
    "##### Struct node_t * next;\n",
    "##### Struct node_t next_higher;\n",
    "##### Int val;\n",
    "##### }"
   ]
  },
  {
   "cell_type": "code",
   "execution_count": 3,
   "metadata": {},
   "outputs": [],
   "source": [
    "class ListNode:\n",
    "    def _init_(self, data):\n",
    "        self.val = data\n",
    "        self.next = None\n",
    "        return None\n",
    "\n",
    "class SingleLinkedList:\n",
    "    def _init_(self):\n",
    "        self.head = None\n",
    "        self.tail = None\n",
    "        return\n",
    "\n",
    "    def next_higher(self,head):\n",
    "        temp = self.head\n",
    "        if head is None:\n",
    "            return None\n",
    "        while temp.val >= temp.next.val:\n",
    "            if temp.val < temp.next.val:\n",
    "                head.next = temp.next\n",
    "                temp = temp.next\n",
    "            else:\n",
    "                temp = temp.next\n",
    "        return head"
   ]
  }
 ],
 "metadata": {
  "kernelspec": {
   "display_name": "Python 3",
   "language": "python",
   "name": "python3"
  },
  "language_info": {
   "codemirror_mode": {
    "name": "ipython",
    "version": 3
   },
   "file_extension": ".py",
   "mimetype": "text/x-python",
   "name": "python",
   "nbconvert_exporter": "python",
   "pygments_lexer": "ipython3",
   "version": "3.7.2"
  }
 },
 "nbformat": 4,
 "nbformat_minor": 2
}
