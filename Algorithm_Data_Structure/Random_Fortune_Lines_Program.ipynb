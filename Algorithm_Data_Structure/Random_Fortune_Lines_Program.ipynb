{
 "cells": [
  {
   "cell_type": "markdown",
   "metadata": {},
   "source": [
    "## Assignment 5"
   ]
  },
  {
   "cell_type": "markdown",
   "metadata": {},
   "source": [
    "### Hsing-Yi Wang"
   ]
  },
  {
   "cell_type": "markdown",
   "metadata": {},
   "source": [
    ">Create a program for simulating the fortune unix command. The file that contains fortunes uses % in a single line to separate fortune statements. The fortune command mist parse the file and represent in memory and then select at random one statement and print that every time invoked.We assume that the contents of the file fit in memory properly and is not too big.\n",
    "\n",
    ">If empty statement in the fortune file is empty then if that statement is selected at random, an empty string must be printed.\n",
    "\n",
    ">Statements may be multiline and they should be printed verbatim if that is the case.\n",
    "\n",
    ">As an example:\n",
    "\n",
    ">Your fortune is bad today!\n",
    "%\n",
    "No Fortune Today! Sorry.\n",
    "%\n",
    "Today is a good day...\n",
    "To play the lottery\n",
    "%\n",
    "%\n",
    "Sorry not much fortune today!\n",
    "%\n",
    "There are 5 statements above so your program must parse the file and find that out and store the string in some data structure then select a number between 0 and 4 if 2 is selected the following must be printed:\n",
    "Today is a good day...\n",
    "To play the lottery\n",
    "\n"
   ]
  },
  {
   "cell_type": "code",
   "execution_count": null,
   "metadata": {},
   "outputs": [],
   "source": [
    "def _random_int(start, end):\n",
    "    r = random\n",
    "    return r.randint(start, end)\n",
    "\n",
    "#yield fortunes as lists of lines\n",
    "def _read_fortunes(fortune_file):\n",
    "    with codecs.open(fortune_file, mode='r', encoding='utf-8') as f:\n",
    "        contents = f.read()\n",
    "\n",
    "    lines = [line.rstrip() for line in contents.split('%')]\n",
    "\n",
    "    delim = re.compile(r'^%$')\n",
    "\n",
    "    fortunes = []\n",
    "    cur = []\n",
    "\n",
    "    def save_if_nonempty(buf):\n",
    "        fortune = '\\n'.join(buf)\n",
    "        if fortune.strip():\n",
    "            fortunes.append(fortune)\n",
    "\n",
    "    for line in lines:\n",
    "        if delim.match(line):\n",
    "            save_if_nonempty(cur)\n",
    "            cur = []\n",
    "            continue\n",
    "\n",
    "        cur.append(line)\n",
    "\n",
    "    if cur:\n",
    "        save_if_nonempty(cur)\n",
    "\n",
    "    return fortunes\n",
    "\n",
    "# Get a random number and find the matching foutune sentence\n",
    "def get_random_fortune(fortune_file):\n",
    "    \"\"\"\n",
    "    :Parameters:\n",
    "        fortune_file : str\n",
    "            path to file containing fortune cookies\n",
    "    :rtype:  str\n",
    "    :return: the random fortune\n",
    "    \"\"\"\n",
    "    fortunes = list(_read_fortunes(fortune_file))\n",
    "    randomRecord = _random_int(0, len(fortunes) - 1)\n",
    "    return fortunes[randomRecord]\n"
   ]
  }
 ],
 "metadata": {
  "kernelspec": {
   "display_name": "Python 3",
   "language": "python",
   "name": "python3"
  },
  "language_info": {
   "codemirror_mode": {
    "name": "ipython",
    "version": 3
   },
   "file_extension": ".py",
   "mimetype": "text/x-python",
   "name": "python",
   "nbconvert_exporter": "python",
   "pygments_lexer": "ipython3",
   "version": "3.7.2"
  }
 },
 "nbformat": 4,
 "nbformat_minor": 2
}
