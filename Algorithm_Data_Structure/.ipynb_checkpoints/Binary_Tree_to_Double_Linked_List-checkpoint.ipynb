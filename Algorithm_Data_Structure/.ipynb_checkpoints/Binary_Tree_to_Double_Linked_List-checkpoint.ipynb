{
 "cells": [
  {
   "cell_type": "markdown",
   "metadata": {},
   "source": [
    "## Assignment 4"
   ]
  },
  {
   "cell_type": "markdown",
   "metadata": {},
   "source": [
    "### Hsing-Yi Wang"
   ]
  },
  {
   "cell_type": "markdown",
   "metadata": {},
   "source": [
    "Create a function that flattens a binary tree into a double linked list, Use the left and right pointers as next and previous pointers respectively. The function must return the head of the list."
   ]
  },
  {
   "cell_type": "markdown",
   "metadata": {},
   "source": [
    "#### Time Complexity O(n) Space Complexity O(1)"
   ]
  },
  {
   "cell_type": "code",
   "execution_count": 3,
   "metadata": {},
   "outputs": [],
   "source": [
    "def BTToDLL(root):\n",
    "    if root is None:\n",
    "         return root\n",
    "    root = helper(root)\n",
    "    # Move the pointer to left most node which is head of the constructed double linked list\n",
    "    while root.left:\n",
    "        root = root.left\n",
    "    return root\n",
    "\n",
    "# Helper function to convert the binary tree to double linked list \n",
    "def helper(root):\n",
    "    if root is None:\n",
    "        return root\n",
    "    # Convert left subtree and link to root\n",
    "    if root.left:\n",
    "        # Convert the left subtree\n",
    "        left = helper(root.left)\n",
    "        # Find inorder predecessor, after this loop, left will point to the inorder predessor of root\n",
    "        while left.right:\n",
    "            left = left.right\n",
    "        # Make root as next of predecessor\n",
    "        left.right = root\n",
    "        # Make predecessor as previous of root\n",
    "        root.left = left\n",
    "    if root.right:\n",
    "        right = helper(root.right)\n",
    "        while right.left:\n",
    "            right = right.left\n",
    "        right.left = root\n",
    "        root.right = right\n",
    "    return root\n",
    "\n",
    "\n",
    "class Node:  \n",
    "    def __init__(self, x): \n",
    "        self.val = x \n",
    "        self.left = None\n",
    "        self.right = None\n",
    "\n",
    "# Function to print the given doubled linked list\n",
    "def print_list(head): \n",
    "    if head is None: \n",
    "        return\n",
    "    while head: \n",
    "        print(head.val, end = \" \") \n",
    "        head = head.right \n"
   ]
  },
  {
   "cell_type": "code",
   "execution_count": 5,
   "metadata": {},
   "outputs": [
    {
     "name": "stdout",
     "output_type": "stream",
     "text": [
      "25 12 30 10 36 15 "
     ]
    }
   ],
   "source": [
    "root = Node(10) \n",
    "root.left = Node(12) \n",
    "root.right = Node(15) \n",
    "root.left.left = Node(25) \n",
    "root.left.right = Node(30) \n",
    "root.right.left = Node(36) \n",
    "\n",
    "head = BTToDLL(root) \n",
    "print_list(head) "
   ]
  }
 ],
 "metadata": {
  "kernelspec": {
   "display_name": "Python 3",
   "language": "python",
   "name": "python3"
  },
  "language_info": {
   "codemirror_mode": {
    "name": "ipython",
    "version": 3
   },
   "file_extension": ".py",
   "mimetype": "text/x-python",
   "name": "python",
   "nbconvert_exporter": "python",
   "pygments_lexer": "ipython3",
   "version": "3.7.2"
  }
 },
 "nbformat": 4,
 "nbformat_minor": 2
}
