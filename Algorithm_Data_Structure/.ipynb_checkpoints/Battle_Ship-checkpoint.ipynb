{
 "cells": [
  {
   "cell_type": "markdown",
   "metadata": {},
   "source": [
    "## In-Class Assignment 2"
   ]
  },
  {
   "cell_type": "markdown",
   "metadata": {},
   "source": [
    "### Hsing-Yi Wang"
   ]
  },
  {
   "cell_type": "markdown",
   "metadata": {},
   "source": [
    "Write a program named reporter that reads stdin, takes the following command line arguments and\n",
    "reports every time a given column in the input goes above a threshold n consecutive times:\n",
    "reporter column threshold n\n",
    "your program could be used as follow to parse periodic output by tools like vmstat:\n",
    "vmstat | reporter column threshold n\n",
    "Your tool must ignore heading lines like the ones shown below:"
   ]
  },
  {
   "cell_type": "code",
   "execution_count": null,
   "metadata": {},
   "outputs": [],
   "source": [
    "import sys\n",
    "\n",
    "\n",
    "def reporter(argv):\n",
    "    target_column = argv[0]\n",
    "    threshold = int(argv[1])\n",
    "    n = int(argv[2])\n",
    "    loc= 0\n",
    "    count= 0\n",
    "\n",
    "\n",
    "    for i, line in enumerate(sys.stdin):\n",
    "        # print(i)\n",
    "        # print(line)\n",
    "        # print(\"----\")\n",
    "        line = line.split()\n",
    "        if i == 1:\n",
    "            for l, s in enumerate(line):\n",
    "                if s == target_column:\n",
    "                    loc = l\n",
    "\n",
    "        if i > 1:\n",
    "            if len(line) >= loc:\n",
    "                target = int(line[loc])\n",
    "                if target > threshold:\n",
    "                    count += 1\n",
    "                    if count >= n:\n",
    "                        print('Warning!')\n",
    "                        count = 0\n",
    "                else:\n",
    "                    count = 0\n",
    "\n",
    "if __name__ == \"__main__\":\n",
    "    reporter(sys.argv[1:])"
   ]
  },
  {
   "cell_type": "markdown",
   "metadata": {},
   "source": [
    "## Take-Home Assignment 1 - Battle Ship"
   ]
  },
  {
   "cell_type": "markdown",
   "metadata": {},
   "source": [
    "Assume you are given a function bool hit(int x, int y) that returns true if there was a hit to a ship and\n",
    "false if not. You are to write a function that returns the coordinates of a single ship on a grid of given\n",
    "size, the function takes at least one argument int gridSize and must return the coordinates of the 3 unit\n",
    "ship present in the board in the shortest time possible. Estimate the Time and memory complexity of\n",
    "your proposed solution. You are to select the data structure to return what you need as output and the\n",
    "prototype of the function."
   ]
  },
  {
   "cell_type": "code",
   "execution_count": null,
   "metadata": {},
   "outputs": [],
   "source": [
    "class cell(object):\n",
    "    def __init__(self, x, y):\n",
    "        self.state = \"?\"\n",
    "        self.raw_x = x\n",
    "        self.raw_y = y\n",
    "\n",
    "def has_double_adjacent_hit(self, grid):\n",
    "    if self.hit(grid ,self.raw_x + 1, self.raw_y) and self.hit(grid ,self.raw_x + 2, self.raw_y): return True\n",
    "    if self.hit(grid ,self.raw_x - 1, self.raw_y) and self.hit(grid ,self.raw_x - 2, self.raw_y): return True\n",
    "    if self.hit(grid ,self.raw_x, self.raw_y + 1) and self.hit(grid ,self.raw_x, self.raw_y + 2): return True\n",
    "    if self.hit(grid ,self.raw_x, self.raw_y - 1) and self.hit(grid ,self.raw_x, self.raw_y - 2): return True\n",
    "    return False\n",
    "\n",
    "def get_next_cell(self):\n",
    "    # Make a list of all cells adjacent to hits not off the board\n",
    "    double_adjacent_list = []\n",
    "    for line in self.grid:\n",
    "        for cell in line:\n",
    "            if cell.state == '?':\n",
    "                # Check double adjacent cells\n",
    "                if cell.has_double_adjacent_hit(self.grid):\n",
    "                    double_adjacent_list.append(cell)\n",
    "                \n",
    "    if len(double_adjacent_list) > 0:\n",
    "        return double_adjacent_list\n",
    "    "
   ]
  }
 ],
 "metadata": {
  "kernelspec": {
   "display_name": "Python 3",
   "language": "python",
   "name": "python3"
  },
  "language_info": {
   "codemirror_mode": {
    "name": "ipython",
    "version": 3
   },
   "file_extension": ".py",
   "mimetype": "text/x-python",
   "name": "python",
   "nbconvert_exporter": "python",
   "pygments_lexer": "ipython3",
   "version": "3.7.2"
  }
 },
 "nbformat": 4,
 "nbformat_minor": 2
}
