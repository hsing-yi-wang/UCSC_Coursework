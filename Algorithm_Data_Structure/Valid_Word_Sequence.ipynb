{
 "cells": [
  {
   "cell_type": "markdown",
   "metadata": {},
   "source": [
    "## HW 7"
   ]
  },
  {
   "cell_type": "markdown",
   "metadata": {},
   "source": [
    "### Hsing-Yi Wang"
   ]
  },
  {
   "cell_type": "markdown",
   "metadata": {},
   "source": [
    "Create a program that creates and uses the valid word matrix described in class for the ValidWordSequence recursive problem. i.e. Give a string and a dictionary create a two dimensional boolean matrix where m[i,j] = true if substring(i through j) is valid word and false if not. Then use the best algorithm to employ that matrix to solve the problem that was shown to be O(n!) in its recursive form."
   ]
  },
  {
   "cell_type": "code",
   "execution_count": null,
   "metadata": {},
   "outputs": [],
   "source": [
    "# A given function to check if a given string is present in dictionary. \n",
    "# The implementation is naive for simplicity.\n",
    "# As per the question dictionary is given to us.\n",
    "\n",
    "def isWord(string):\n",
    "    n = len(string)\n",
    "    for i in range(0,n):\n",
    "        if dic[sting[i]]:\n",
    "            return True\n",
    "        else:\n",
    "            return False\n",
    "\n",
    "# A recursive function to print all words present on Matrix\n",
    "\n",
    "Matrix = [[0 for x in range(M)] for y in range(N)]\n",
    "Visited = [[0 for x in range(M)] for y in range(N)]\n",
    "str = ''\n",
    "def findWordsUtil(Matrix,Visited,M,N,str):    \n",
    "    # Mark current cell as visited and append current character to str\n",
    "    Visited[i][j] = True\n",
    "    str += Matrix[i][j]\n",
    "    # if str is present in dictionary then print it\n",
    "    if isWord(str):\n",
    "        print(str)\n",
    "    # Traverse 8 adjacent cells of Matrix[i][j]\n",
    "    row = i-1\n",
    "    while row <= i+1 and row < i M:\n",
    "        row += 1\n",
    "        while col <= j+1 and col <N:\n",
    "            col += 1\n",
    "            if row >= 0 and col >= 0 and Visited[row][col]:\n",
    "                findWordsUtil(Matrix,Visited,rowm,col,str)\n",
    "    # Erase current character from string and mark visited of current cell as false\n",
    "    str = str[:i] + str[i+1:]\n",
    "    Visited[i][j] = False\n",
    "\n",
    "# Prints all words present in dictionary\n",
    "\n",
    "def findWords(Matrix, Visited, M, N, str):\n",
    "    Visited[M,N] = False\n",
    "    str = ''\n",
    "    for i in range(0,M):\n",
    "        i += 1\n",
    "        for j in range(0,N):\n",
    "            findWordsUtil(Matrix,Visited,i,j,str)\n",
    "            \n"
   ]
  }
 ],
 "metadata": {
  "kernelspec": {
   "display_name": "Python 3",
   "language": "python",
   "name": "python3"
  },
  "language_info": {
   "codemirror_mode": {
    "name": "ipython",
    "version": 3
   },
   "file_extension": ".py",
   "mimetype": "text/x-python",
   "name": "python",
   "nbconvert_exporter": "python",
   "pygments_lexer": "ipython3",
   "version": "3.7.2"
  }
 },
 "nbformat": 4,
 "nbformat_minor": 2
}
