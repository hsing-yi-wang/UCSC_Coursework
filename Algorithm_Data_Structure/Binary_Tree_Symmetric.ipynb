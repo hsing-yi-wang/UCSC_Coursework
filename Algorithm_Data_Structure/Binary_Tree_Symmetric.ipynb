{
 "cells": [
  {
   "cell_type": "markdown",
   "metadata": {},
   "source": [
    "## HW 5"
   ]
  },
  {
   "cell_type": "markdown",
   "metadata": {},
   "source": [
    "### Hsing-Yi Wang"
   ]
  },
  {
   "cell_type": "markdown",
   "metadata": {},
   "source": [
    "Create a function to test if a binary tree is symmetric. A tree is symmetric if its left subtree is a mirror image of the right subtree."
   ]
  },
  {
   "cell_type": "markdown",
   "metadata": {},
   "source": [
    "#### Time Complexity O(n) Space Complexity O(n)"
   ]
  },
  {
   "cell_type": "code",
   "execution_count": 4,
   "metadata": {},
   "outputs": [],
   "source": [
    "# Check if tree is mirror of itself\n",
    "def isSymmetric(root):\n",
    "        \"\"\"\n",
    "        :type root: TreeNode\n",
    "        :rtype: bool\n",
    "        \"\"\"\n",
    "        if root is None:\n",
    "            return True\n",
    "        return dfs(root.left, root.right)\n",
    "\n",
    "# Return True if two trees with roots as root1 and root2 are mirror\n",
    "\"\"\" \n",
    "    For two trees to be mirror images, the following three conditions must be true \n",
    "        1 Their root node's key must be same \n",
    "        2 Left subtree of left tree and right subtree of right tree have to be mirror images \n",
    "        3 Right subtree of left tree and left subtree of right tree have to be mirror images \n",
    "\"\"\"\n",
    "def dfs(root1, root2):\n",
    "    if not root1 and not root2:\n",
    "        return True\n",
    "    elif not root1 or not root2:\n",
    "        return False\n",
    "    else:\n",
    "        if root1.val == root2.val:\n",
    "            if dfs(root1.right, root2.left):\n",
    "                return dfs(root1.left, root2.right)\n",
    "            return False\n",
    "        else:\n",
    "            return False\n",
    "\n",
    "class Node:  \n",
    "    def __init__(self, x): \n",
    "        self.val = x \n",
    "        self.left = None\n",
    "        self.right = None\n"
   ]
  },
  {
   "cell_type": "code",
   "execution_count": 6,
   "metadata": {},
   "outputs": [
    {
     "name": "stdout",
     "output_type": "stream",
     "text": [
      "1\n"
     ]
    }
   ],
   "source": [
    "root = Node(1) \n",
    "root.left = Node(2) \n",
    "root.right = Node(2) \n",
    "root.left.left = Node(3) \n",
    "root.left.right = Node(4) \n",
    "root.right.left = Node(4) \n",
    "root.right.right = Node(3) \n",
    "print(\"1\") if isSymmetric(root) == True else print(\"0\") "
   ]
  }
 ],
 "metadata": {
  "kernelspec": {
   "display_name": "Python 3",
   "language": "python",
   "name": "python3"
  },
  "language_info": {
   "codemirror_mode": {
    "name": "ipython",
    "version": 3
   },
   "file_extension": ".py",
   "mimetype": "text/x-python",
   "name": "python",
   "nbconvert_exporter": "python",
   "pygments_lexer": "ipython3",
   "version": "3.7.2"
  }
 },
 "nbformat": 4,
 "nbformat_minor": 2
}
