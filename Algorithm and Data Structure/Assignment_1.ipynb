{
 "cells": [
  {
   "cell_type": "markdown",
   "metadata": {},
   "source": [
    "# Assignment 1"
   ]
  },
  {
   "cell_type": "markdown",
   "metadata": {},
   "source": [
    "### Name: Hsing-Yi Wang"
   ]
  },
  {
   "cell_type": "markdown",
   "metadata": {},
   "source": [
    "## Problem 1.1"
   ]
  },
  {
   "cell_type": "markdown",
   "metadata": {},
   "source": [
    "Order the following functions by growth rate:"
   ]
  },
  {
   "cell_type": "markdown",
   "metadata": {},
   "source": [
    "2/N < 37 < √N < N < NloglogN < NlogN <= Nlog(N^2) < N(log^2)N < N^1.5 < N^2 < N^2(logN) < N^3 < 2^(N/2) < 2^N\n",
    "The only two functions that grow at the same rate are NlogN and Nlog(N^2) "
   ]
  },
  {
   "cell_type": "markdown",
   "metadata": {},
   "source": [
    "## Problem 1.2"
   ]
  },
  {
   "cell_type": "markdown",
   "metadata": {},
   "source": [
    "For each of the following six program fragments:\n",
    "Give an analysis of the running time (Big-Oh will do).\n",
    "Implement the code in Java, and give the running time for several values of N.\n",
    "Compare your analysis with the actual running times."
   ]
  },
  {
   "cell_type": "markdown",
   "metadata": {},
   "source": [
    "1.sum = 0;\n",
    "for (i = 0; i < n; i++)\n",
    "    sum++; \n",
    "    \n",
    "2.sum = 0;\n",
    "for (i = 0; i < n; i++)\n",
    "    for ( j = 0; j < n; j++)\n",
    "        sum++;\n",
    "\n",
    "3.sum = 0;\n",
    "for (i = 0; i < n; i++)\n",
    "    for (j = 0; j < n * n; j++)\n",
    "        sum++;\n",
    "        \n",
    "4.sum = 0;\n",
    "for (i = 0; i < n; i++)\n",
    "    for (j = 0; j < i; j++)\n",
    "        sum++;\n",
    "        \n",
    "5.sum = 0;\n",
    "for (i = 0; i < n; i++)\n",
    "    for (j = 0; j < i * i; j++)\n",
    "        for (k = 0; k < j; k++)\n",
    "            sum++;\n",
    "            \n",
    "6.sum = 0;\n",
    "for (i = 0; i < n; i++)\n",
    "    for (j = 1; j < i * i; j++)\n",
    "        if (j % i == 0)\n",
    "            for (k = 0; k < j; k++)\n",
    "                sum++;"
   ]
  },
  {
   "cell_type": "markdown",
   "metadata": {},
   "source": [
    "(a) 1.O(n) 2.O(n^2) 3.O(n^3) 4.O(n^2) 5.O(n^5) 6.O(n^4) "
   ]
  },
  {
   "cell_type": "markdown",
   "metadata": {},
   "source": [
    "(b) \n",
    "    1. N = 64,128,256; Running time: 0.0048, 0.0051, 0.0057 (ms)\n",
    "    2. N = 64,128,256; Running time: 0.0248, 0.0831, 0.3145 (ms)\n",
    "    3. N = 32,64,168; Running time: 0.1513, 1.1723, 9.3458 (ms)\n",
    "    4. N = 64,128,256; Running time: 0.0151, 0.0435, 0.1570 (ms)\n",
    "    5. N = 16,32,64; Running time: 0.1079, 3.1056, 100.00 (ms)\n",
    "    6. N = 16,32,64; Running time: 0.0467, 0.6596, 10.2041 (ms)"
   ]
  },
  {
   "cell_type": "markdown",
   "metadata": {},
   "source": [
    "(c) We can compute the growth rate of actual running time to compare with our expectation.\n",
    "    1. growth rate approach 2\n",
    "    2. growth rate approach 2^2\n",
    "    3. growth rate approach 2^3\n",
    "    4. growth rate approach 2^2\n",
    "    5. growth rate approach 2^5\n",
    "    6. growth rate approach 2^4\n",
    "    Actual run time is the same with our analysis."
   ]
  },
  {
   "cell_type": "markdown",
   "metadata": {},
   "source": [
    "## Problem 1.3"
   ]
  },
  {
   "cell_type": "markdown",
   "metadata": {},
   "source": [
    "An algorithm takes 0.5 ms for input size 100. How long will it take for input size 500 if the running time is the following (assume low-order terms are negligible)\n",
    "(a)linear\n",
    "(b)O(NlogN)\n",
    "(c)quadratic\n",
    "(d)cubic"
   ]
  },
  {
   "cell_type": "markdown",
   "metadata": {},
   "source": [
    "(a) 2.5ms (b) 3.4ms (c) 12.5ms (d) 62.6ms  "
   ]
  },
  {
   "cell_type": "markdown",
   "metadata": {},
   "source": [
    "## Problem 1.4"
   ]
  },
  {
   "cell_type": "markdown",
   "metadata": {},
   "source": [
    "Give an efficient algorithm to determine if there exists an integer i such that  in an array of integer . What is the running time of your algorithm."
   ]
  },
  {
   "cell_type": "markdown",
   "metadata": {},
   "source": [
    "If all integers in the array are distict and sort in increasing order, we can implement our search as follow. For any given i between 1 and N, if we check Ai and obtain Ai > i, then we have the result that Aj != j for all j>i. On the other hand, if Ai<i, by the same reason, we have Aj != j for all j<i. Therefore, we can design the algorithm by using the binary search technique. Therefore, the worst case running time of the program is O(logN) "
   ]
  },
  {
   "cell_type": "markdown",
   "metadata": {},
   "source": [
    "## Problem 1.5"
   ]
  },
  {
   "cell_type": "markdown",
   "metadata": {},
   "source": [
    "Programs A and B are analyzed and found to have worst-cast running times no greater than  and , respectively. Answer the following questions, if possible:\n",
    "(a)Which program has the better guarantee on the running time, for large values of N (N > 10000)?\n",
    "(b)Which program has the better guarantee on the running time, for small value of N  (N > 100)? \n",
    "(c)Which program will run faster on average for N = 1000?\n",
    "(d)Is it possible that program B will run faster than program A on all possible input?"
   ]
  },
  {
   "cell_type": "markdown",
   "metadata": {},
   "source": [
    "(a) Suppose N = 10^6, 150NlogN = 3*10^9 and N^2 = 10^12. So Program A  has better gurantee on the running time."
   ]
  },
  {
   "cell_type": "markdown",
   "metadata": {},
   "source": [
    "(b) Suppose N = 10, 150NlogN = 4950 and N^2 = 100. So Program B has better gurantee of the running time."
   ]
  },
  {
   "cell_type": "markdown",
   "metadata": {},
   "source": [
    "(c) Because we only know their worst case running time, we cannot know the average performance."
   ]
  },
  {
   "cell_type": "markdown",
   "metadata": {},
   "source": [
    "(d) No, B only runs faster than program A on smaller inputs. It runs much slower than A on large inputs."
   ]
  }
 ],
 "metadata": {
  "kernelspec": {
   "display_name": "Python 3",
   "language": "python",
   "name": "python3"
  },
  "language_info": {
   "codemirror_mode": {
    "name": "ipython",
    "version": 3
   },
   "file_extension": ".py",
   "mimetype": "text/x-python",
   "name": "python",
   "nbconvert_exporter": "python",
   "pygments_lexer": "ipython3",
   "version": "3.7.2"
  }
 },
 "nbformat": 4,
 "nbformat_minor": 2
}
