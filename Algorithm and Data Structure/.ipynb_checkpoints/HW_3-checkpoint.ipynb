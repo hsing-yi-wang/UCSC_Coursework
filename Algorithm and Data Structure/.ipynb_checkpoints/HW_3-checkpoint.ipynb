{
 "cells": [
  {
   "cell_type": "markdown",
   "metadata": {},
   "source": [
    "## HW 3"
   ]
  },
  {
   "cell_type": "markdown",
   "metadata": {},
   "source": [
    "1.Reverse a queue using recursion."
   ]
  },
  {
   "cell_type": "markdown",
   "metadata": {},
   "source": [
    "#### Time Complexity O(n) Space Complexity (n)"
   ]
  },
  {
   "cell_type": "code",
   "execution_count": 1,
   "metadata": {},
   "outputs": [],
   "source": [
    "class Queue:\n",
    "    def __init__(self):\n",
    "        self.items = [] \n",
    "    def isEmpty(self): \n",
    "        return self.items == [] \n",
    "    def add(self, item): \n",
    "        self.items.append(item)\n",
    "    def pop(self):\n",
    "        return self.items.pop(0)\n",
    "    def front(self):\n",
    "        return self.items[0]\n",
    "    def printQueue(self):\n",
    "        for i in self.items: \n",
    "            print(i, end =\" \") \n",
    "        print(\"\") \n",
    "\n",
    "def reverseQueue(q): \n",
    "    # Base case\n",
    "    if (q.isEmpty()):\n",
    "        return q\n",
    "    # Dequeue current item (from front) \n",
    "    head = q.front()\n",
    "    q.pop()\n",
    "    # Reverse remaining queue\n",
    "    reverseQueue(q)\n",
    "    # Enqueue current item (to tail)\n",
    "    q.add(head)"
   ]
  },
  {
   "cell_type": "code",
   "execution_count": 2,
   "metadata": {},
   "outputs": [
    {
     "name": "stdout",
     "output_type": "stream",
     "text": [
      "15 14 13 12 \n"
     ]
    }
   ],
   "source": [
    "q = Queue() \n",
    "q.add(12) \n",
    "q.add(13) \n",
    "q.add(14) \n",
    "q.add(15) \n",
    "reverseQueue(q) \n",
    "q.printQueue()"
   ]
  },
  {
   "cell_type": "markdown",
   "metadata": {},
   "source": [
    "2.Check for the following symbols to be balanced on a given string/text file: { } [ ] ( ) < >"
   ]
  },
  {
   "cell_type": "markdown",
   "metadata": {},
   "source": [
    "#### Time Complexity = (n), Space Complexity = O(n)"
   ]
  },
  {
   "cell_type": "code",
   "execution_count": 3,
   "metadata": {},
   "outputs": [],
   "source": [
    "def isValid(s):\n",
    "        \"\"\"\n",
    "        :type s: str\n",
    "        :rtype: bool\n",
    "        \"\"\"\n",
    "        stack = []\n",
    "        mapping = {\")\":\"(\", \"}\":\"{\", \"]\":\"[\",\">\":\"<\"}\n",
    "        for bracket in s:\n",
    "            if bracket in mapping:\n",
    "                if not(stack and stack.pop() == mapping[bracket]):\n",
    "                    return False                \n",
    "            else:\n",
    "                stack.append(bracket)\n",
    "        return not stack "
   ]
  },
  {
   "cell_type": "code",
   "execution_count": 4,
   "metadata": {},
   "outputs": [
    {
     "data": {
      "text/plain": [
       "False"
      ]
     },
     "execution_count": 4,
     "metadata": {},
     "output_type": "execute_result"
    }
   ],
   "source": [
    "isValid('{<}>')"
   ]
  },
  {
   "cell_type": "code",
   "execution_count": 5,
   "metadata": {},
   "outputs": [
    {
     "data": {
      "text/plain": [
       "True"
      ]
     },
     "execution_count": 5,
     "metadata": {},
     "output_type": "execute_result"
    }
   ],
   "source": [
    "isValid('{}<>')"
   ]
  }
 ],
 "metadata": {
  "kernelspec": {
   "display_name": "Python 3",
   "language": "python",
   "name": "python3"
  },
  "language_info": {
   "codemirror_mode": {
    "name": "ipython",
    "version": 3
   },
   "file_extension": ".py",
   "mimetype": "text/x-python",
   "name": "python",
   "nbconvert_exporter": "python",
   "pygments_lexer": "ipython3",
   "version": "3.7.2"
  }
 },
 "nbformat": 4,
 "nbformat_minor": 2
}
